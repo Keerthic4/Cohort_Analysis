{
 "cells": [
  {
   "cell_type": "markdown",
   "metadata": {},
   "source": [
    "# Creating Cohort Analysis for Markerting & Adversting Company"
   ]
  },
  {
   "cell_type": "markdown",
   "metadata": {},
   "source": [
    "<a href= \"s1\"> 1) Data Exloration</a>\n",
    "\n",
    "<a href= \"s2\"> 2) Data wrangling, Cleaning data</a>\n",
    "    \n",
    "<a href= \"s3\"> 3) Top 3 most frequently represented countries on the dataframe</a>\n",
    "    \n",
    "<a href= \"s4\"> 4) Creating dataframe, creating cohort and cohort analysis for American customers</a>\n",
    "    \n",
    "<a href= \"s5\"> 5)Creating dataframe, creating cohort and cohort analysis for Australian customers</a>\n",
    "\n",
    "<a href= \"s6\"> 6) Creating dataframe, creating cohort and cohort analysis for Canadian customers</a>\n",
    "\n",
    "<a href= \"s7\"> 7) Creating csv for cleaned master data (no geographic separation) to prepare a cohort layer cake</a>\n",
    "    \n",
    "<a href= \"s8\"> 8) Conclusion</a>"
   ]
  },
  {
   "cell_type": "markdown",
   "metadata": {},
   "source": [
    "# 1. Data Exploration"
   ]
  },
  {
   "cell_type": "code",
   "execution_count": 1,
   "metadata": {},
   "outputs": [],
   "source": [
    "import pandas as pd\n",
    "import numpy as np\n",
    "import datetime \n",
    "import seaborn as sns\n",
    "import matplotlib.pyplot as plt\n",
    "%matplotlib inline"
   ]
  },
  {
   "cell_type": "code",
   "execution_count": 2,
   "metadata": {},
   "outputs": [],
   "source": [
    "#Data Exploration\n",
    "df = pd.read_csv(\"query_result_2021-05-18T03 46 57.095586Z (1).csv\")"
   ]
  },
  {
   "cell_type": "code",
   "execution_count": 3,
   "metadata": {},
   "outputs": [
    {
     "data": {
      "text/html": [
       "<div>\n",
       "<style scoped>\n",
       "    .dataframe tbody tr th:only-of-type {\n",
       "        vertical-align: middle;\n",
       "    }\n",
       "\n",
       "    .dataframe tbody tr th {\n",
       "        vertical-align: top;\n",
       "    }\n",
       "\n",
       "    .dataframe thead th {\n",
       "        text-align: right;\n",
       "    }\n",
       "</style>\n",
       "<table border=\"1\" class=\"dataframe\">\n",
       "  <thead>\n",
       "    <tr style=\"text-align: right;\">\n",
       "      <th></th>\n",
       "      <th>created</th>\n",
       "      <th>paid</th>\n",
       "      <th>refunded</th>\n",
       "      <th>customer</th>\n",
       "      <th>card__country</th>\n",
       "    </tr>\n",
       "  </thead>\n",
       "  <tbody>\n",
       "    <tr>\n",
       "      <th>0</th>\n",
       "      <td>2020-10-21T04:45:40Z</td>\n",
       "      <td>250</td>\n",
       "      <td>250</td>\n",
       "      <td>cus_IF3JcGrw0aMpgv</td>\n",
       "      <td>US</td>\n",
       "    </tr>\n",
       "    <tr>\n",
       "      <th>1</th>\n",
       "      <td>2020-10-27T23:02:31Z</td>\n",
       "      <td>250</td>\n",
       "      <td>250</td>\n",
       "      <td>cus_IHaMqtFwUNAO09</td>\n",
       "      <td>US</td>\n",
       "    </tr>\n",
       "    <tr>\n",
       "      <th>2</th>\n",
       "      <td>2020-11-01T02:42:43Z</td>\n",
       "      <td>250</td>\n",
       "      <td>250</td>\n",
       "      <td>cus_IJ8oU3Lo2gaHls</td>\n",
       "      <td>DE</td>\n",
       "    </tr>\n",
       "    <tr>\n",
       "      <th>3</th>\n",
       "      <td>2020-11-17T19:51:25Z</td>\n",
       "      <td>750</td>\n",
       "      <td>0</td>\n",
       "      <td>cus_HbD8AagiDUOBoG</td>\n",
       "      <td>US</td>\n",
       "    </tr>\n",
       "    <tr>\n",
       "      <th>4</th>\n",
       "      <td>2020-11-17T21:28:58Z</td>\n",
       "      <td>250</td>\n",
       "      <td>0</td>\n",
       "      <td>cus_IDnbmEhzNjlGV0</td>\n",
       "      <td>GB</td>\n",
       "    </tr>\n",
       "  </tbody>\n",
       "</table>\n",
       "</div>"
      ],
      "text/plain": [
       "                created  paid  refunded            customer card__country\n",
       "0  2020-10-21T04:45:40Z   250       250  cus_IF3JcGrw0aMpgv            US\n",
       "1  2020-10-27T23:02:31Z   250       250  cus_IHaMqtFwUNAO09            US\n",
       "2  2020-11-01T02:42:43Z   250       250  cus_IJ8oU3Lo2gaHls            DE\n",
       "3  2020-11-17T19:51:25Z   750         0  cus_HbD8AagiDUOBoG            US\n",
       "4  2020-11-17T21:28:58Z   250         0  cus_IDnbmEhzNjlGV0            GB"
      ]
     },
     "execution_count": 3,
     "metadata": {},
     "output_type": "execute_result"
    }
   ],
   "source": [
    "#display first 5 rows\n",
    "df.head()"
   ]
  },
  {
   "cell_type": "markdown",
   "metadata": {},
   "source": [
    "The function below aggrates the statstical and descriptive data about the data set we're using"
   ]
  },
  {
   "cell_type": "code",
   "execution_count": 4,
   "metadata": {},
   "outputs": [],
   "source": [
    "def explore(x):\n",
    "    divider = \"*_*\"\n",
    "    #creates a divider between each method output breaking at each end.\n",
    "    print(\"\\n {} \\n\".format((divider*20))) \n",
    "    \n",
    "    #title for output.\n",
    "    print(\"Dataframe Makeup \\n\") \n",
    "    \n",
    "    # Explains what the data and values the data is madeup from.\n",
    "    x.info() \n",
    "    \n",
    "    #creates a dvider between each method output breaking at each end.\n",
    "    print(\"\\n {} \\n\".format((divider*20))) \n",
    "    \n",
    "    #Gives a statstical breakdown of the data.\n",
    "    print(\"Descriptive Statistics \\n\\n\", x.describe()) \n",
    "    \n",
    "    #creates a dvider between each method output breaking at each end.\n",
    "    print(\"\\n {} \\n\".format((divider*20))) \n",
    "    \n",
    "    # Gives the shape of the data.\n",
    "    print(\"Shape of dataframe: {}\".format(x.shape)) \n",
    "    \n",
    "    #creates a dvider between each method output breaking at each end.\n",
    "    print(\"\\n {} \\n\".format((divider*20))) \n",
    "    return"
   ]
  },
  {
   "cell_type": "code",
   "execution_count": 5,
   "metadata": {},
   "outputs": [
    {
     "name": "stdout",
     "output_type": "stream",
     "text": [
      "\n",
      " *_**_**_**_**_**_**_**_**_**_**_**_**_**_**_**_**_**_**_**_* \n",
      "\n",
      "Dataframe Makeup \n",
      "\n",
      "<class 'pandas.core.frame.DataFrame'>\n",
      "RangeIndex: 5725 entries, 0 to 5724\n",
      "Data columns (total 5 columns):\n",
      " #   Column         Non-Null Count  Dtype \n",
      "---  ------         --------------  ----- \n",
      " 0   created        5725 non-null   object\n",
      " 1   paid           5725 non-null   int64 \n",
      " 2   refunded       5725 non-null   int64 \n",
      " 3   customer       5725 non-null   object\n",
      " 4   card__country  1678 non-null   object\n",
      "dtypes: int64(2), object(3)\n",
      "memory usage: 223.8+ KB\n",
      "\n",
      " *_**_**_**_**_**_**_**_**_**_**_**_**_**_**_**_**_**_**_**_* \n",
      "\n",
      "Descriptive Statistics \n",
      "\n",
      "               paid     refunded\n",
      "count  5725.000000  5725.000000\n",
      "mean    249.217817    24.466725\n",
      "std     254.749626   149.333477\n",
      "min       1.000000     0.000000\n",
      "25%     250.000000     0.000000\n",
      "50%     250.000000     0.000000\n",
      "75%     250.000000     0.000000\n",
      "max    8475.000000  8475.000000\n",
      "\n",
      " *_**_**_**_**_**_**_**_**_**_**_**_**_**_**_**_**_**_**_**_* \n",
      "\n",
      "Shape of dataframe: (5725, 5)\n",
      "\n",
      " *_**_**_**_**_**_**_**_**_**_**_**_**_**_**_**_**_**_**_**_* \n",
      "\n"
     ]
    }
   ],
   "source": [
    "explore(df)"
   ]
  },
  {
   "cell_type": "markdown",
   "metadata": {},
   "source": [
    "# 2. Cleaning Data"
   ]
  },
  {
   "cell_type": "markdown",
   "metadata": {},
   "source": [
    "we want to clean up the data so that there are no missing values."
   ]
  },
  {
   "cell_type": "code",
   "execution_count": 6,
   "metadata": {},
   "outputs": [],
   "source": [
    "#Create a function that sums all of the missing data from each row so that we can count what we have\n",
    "\n",
    "def missing_data(y):\n",
    "    return y.isna().sum()"
   ]
  },
  {
   "cell_type": "code",
   "execution_count": 7,
   "metadata": {},
   "outputs": [
    {
     "data": {
      "text/plain": [
       "created             0\n",
       "paid                0\n",
       "refunded            0\n",
       "customer            0\n",
       "card__country    4047\n",
       "dtype: int64"
      ]
     },
     "execution_count": 7,
     "metadata": {},
     "output_type": "execute_result"
    }
   ],
   "source": [
    "missing_data(df)"
   ]
  },
  {
   "cell_type": "code",
   "execution_count": 8,
   "metadata": {},
   "outputs": [],
   "source": [
    "#drops missing data from the card_country column\n",
    "cleaned_data = df.dropna()"
   ]
  },
  {
   "cell_type": "code",
   "execution_count": 9,
   "metadata": {},
   "outputs": [
    {
     "name": "stdout",
     "output_type": "stream",
     "text": [
      "\n",
      " *_**_**_**_**_**_**_**_**_**_**_**_**_**_**_**_**_**_**_**_* \n",
      "\n",
      "Dataframe Makeup \n",
      "\n",
      "<class 'pandas.core.frame.DataFrame'>\n",
      "Int64Index: 1678 entries, 0 to 5724\n",
      "Data columns (total 5 columns):\n",
      " #   Column         Non-Null Count  Dtype \n",
      "---  ------         --------------  ----- \n",
      " 0   created        1678 non-null   object\n",
      " 1   paid           1678 non-null   int64 \n",
      " 2   refunded       1678 non-null   int64 \n",
      " 3   customer       1678 non-null   object\n",
      " 4   card__country  1678 non-null   object\n",
      "dtypes: int64(2), object(3)\n",
      "memory usage: 78.7+ KB\n",
      "\n",
      " *_**_**_**_**_**_**_**_**_**_**_**_**_**_**_**_**_**_**_**_* \n",
      "\n",
      "Descriptive Statistics \n",
      "\n",
      "               paid     refunded\n",
      "count  1678.000000  1678.000000\n",
      "mean    283.908224    37.460667\n",
      "std     323.106098   247.111896\n",
      "min       1.000000     0.000000\n",
      "25%     250.000000     0.000000\n",
      "50%     250.000000     0.000000\n",
      "75%     250.000000     0.000000\n",
      "max    8475.000000  8475.000000\n",
      "\n",
      " *_**_**_**_**_**_**_**_**_**_**_**_**_**_**_**_**_**_**_**_* \n",
      "\n",
      "Shape of dataframe: (1678, 5)\n",
      "\n",
      " *_**_**_**_**_**_**_**_**_**_**_**_**_**_**_**_**_**_**_**_* \n",
      "\n"
     ]
    }
   ],
   "source": [
    "explore(cleaned_data)"
   ]
  },
  {
   "cell_type": "markdown",
   "metadata": {},
   "source": [
    "## Find Duplicate Rows based on all columns"
   ]
  },
  {
   "cell_type": "code",
   "execution_count": 10,
   "metadata": {},
   "outputs": [
    {
     "name": "stdout",
     "output_type": "stream",
     "text": [
      "Duplicate Rows except first occurrence based on all columns are :\n",
      "Empty DataFrame\n",
      "Columns: [created, paid, refunded, customer, card__country]\n",
      "Index: []\n"
     ]
    }
   ],
   "source": [
    "# Select duplicate rows except first occurrence based on all columns\n",
    "duplicateRowsDF = cleaned_data[cleaned_data.duplicated()]\n",
    "print(\"Duplicate Rows except first occurrence based on all columns are :\")\n",
    "print(duplicateRowsDF)"
   ]
  },
  {
   "cell_type": "markdown",
   "metadata": {},
   "source": [
    "There are no duplicate values in dataframe."
   ]
  },
  {
   "cell_type": "code",
   "execution_count": 11,
   "metadata": {},
   "outputs": [
    {
     "data": {
      "text/plain": [
       "<matplotlib.axes._subplots.AxesSubplot at 0x1486403fa90>"
      ]
     },
     "execution_count": 11,
     "metadata": {},
     "output_type": "execute_result"
    },
    {
     "data": {
      "image/png": "[encoded data removed]",
      "text/plain": [
       "<Figure size 792x648 with 1 Axes>"
      ]
     },
     "metadata": {
      "needs_background": "light"
     },
     "output_type": "display_data"
    }
   ],
   "source": [
    "table = pd.pivot_table(data = cleaned_data, index = ['card__country'])\n",
    "table.plot(kind ='bar',figsize = (11,9))"
   ]
  },
  {
   "cell_type": "markdown",
   "metadata": {},
   "source": [
    "The highest paid countries are KE(Kenya), IN (India).\n",
    "The highest refunded countries are DK (Denmark), IN (India)"
   ]
  },
  {
   "cell_type": "markdown",
   "metadata": {},
   "source": [
    "# 3. Finding top 3 most frequently represented countries on the dataframe."
   ]
  },
  {
   "cell_type": "code",
   "execution_count": 12,
   "metadata": {},
   "outputs": [
    {
     "data": {
      "text/plain": [
       "US    997\n",
       "AU    203\n",
       "CA    190\n",
       "GB     99\n",
       "FI     32\n",
       "SG     30\n",
       "DE     17\n",
       "FR     14\n",
       "IL     12\n",
       "NL      9\n",
       "EE      9\n",
       "UA      9\n",
       "IE      9\n",
       "IN      7\n",
       "PL      6\n",
       "MT      5\n",
       "HK      4\n",
       "RU      3\n",
       "IT      3\n",
       "ES      3\n",
       "DK      2\n",
       "NZ      2\n",
       "LT      2\n",
       "JP      2\n",
       "LV      1\n",
       "NG      1\n",
       "KW      1\n",
       "KE      1\n",
       "CN      1\n",
       "TW      1\n",
       "CD      1\n",
       "AE      1\n",
       "BE      1\n",
       "Name: card__country, dtype: int64"
      ]
     },
     "execution_count": 12,
     "metadata": {},
     "output_type": "execute_result"
    }
   ],
   "source": [
    "cleaned_data.card__country.value_counts()"
   ]
  },
  {
   "cell_type": "markdown",
   "metadata": {},
   "source": [
    "Top 3 most frequently represented countries on the dataframe are US, AU, CA"
   ]
  },
  {
   "cell_type": "markdown",
   "metadata": {},
   "source": [
    "## Assumption"
   ]
  },
  {
   "cell_type": "markdown",
   "metadata": {},
   "source": [
    "Making assumption- All the datetime and currency in a proper one format and there is no need of any conversion"
   ]
  },
  {
   "cell_type": "markdown",
   "metadata": {},
   "source": [
    "# 4. Creating dataframe for American customers"
   ]
  },
  {
   "cell_type": "code",
   "execution_count": 13,
   "metadata": {},
   "outputs": [
    {
     "data": {
      "text/html": [
       "<div>\n",
       "<style scoped>\n",
       "    .dataframe tbody tr th:only-of-type {\n",
       "        vertical-align: middle;\n",
       "    }\n",
       "\n",
       "    .dataframe tbody tr th {\n",
       "        vertical-align: top;\n",
       "    }\n",
       "\n",
       "    .dataframe thead th {\n",
       "        text-align: right;\n",
       "    }\n",
       "</style>\n",
       "<table border=\"1\" class=\"dataframe\">\n",
       "  <thead>\n",
       "    <tr style=\"text-align: right;\">\n",
       "      <th></th>\n",
       "      <th>created</th>\n",
       "      <th>paid</th>\n",
       "      <th>refunded</th>\n",
       "      <th>customer</th>\n",
       "      <th>card__country</th>\n",
       "    </tr>\n",
       "  </thead>\n",
       "  <tbody>\n",
       "    <tr>\n",
       "      <th>0</th>\n",
       "      <td>2020-10-21T04:45:40Z</td>\n",
       "      <td>250</td>\n",
       "      <td>250</td>\n",
       "      <td>cus_IF3JcGrw0aMpgv</td>\n",
       "      <td>US</td>\n",
       "    </tr>\n",
       "    <tr>\n",
       "      <th>1</th>\n",
       "      <td>2020-10-27T23:02:31Z</td>\n",
       "      <td>250</td>\n",
       "      <td>250</td>\n",
       "      <td>cus_IHaMqtFwUNAO09</td>\n",
       "      <td>US</td>\n",
       "    </tr>\n",
       "    <tr>\n",
       "      <th>3</th>\n",
       "      <td>2020-11-17T19:51:25Z</td>\n",
       "      <td>750</td>\n",
       "      <td>0</td>\n",
       "      <td>cus_HbD8AagiDUOBoG</td>\n",
       "      <td>US</td>\n",
       "    </tr>\n",
       "    <tr>\n",
       "      <th>6</th>\n",
       "      <td>2020-11-17T22:18:09Z</td>\n",
       "      <td>250</td>\n",
       "      <td>0</td>\n",
       "      <td>cus_FH0Csodtt6j0ff</td>\n",
       "      <td>US</td>\n",
       "    </tr>\n",
       "    <tr>\n",
       "      <th>7</th>\n",
       "      <td>2020-11-17T23:05:19Z</td>\n",
       "      <td>1000</td>\n",
       "      <td>0</td>\n",
       "      <td>cus_IBtiU1rmRe2oKe</td>\n",
       "      <td>US</td>\n",
       "    </tr>\n",
       "    <tr>\n",
       "      <th>...</th>\n",
       "      <td>...</td>\n",
       "      <td>...</td>\n",
       "      <td>...</td>\n",
       "      <td>...</td>\n",
       "      <td>...</td>\n",
       "    </tr>\n",
       "    <tr>\n",
       "      <th>5715</th>\n",
       "      <td>2020-08-15T17:03:43Z</td>\n",
       "      <td>250</td>\n",
       "      <td>250</td>\n",
       "      <td>cus_HTHKDcrJQlMzMN</td>\n",
       "      <td>US</td>\n",
       "    </tr>\n",
       "    <tr>\n",
       "      <th>5716</th>\n",
       "      <td>2020-11-15T17:03:25Z</td>\n",
       "      <td>250</td>\n",
       "      <td>250</td>\n",
       "      <td>cus_HTHKDcrJQlMzMN</td>\n",
       "      <td>US</td>\n",
       "    </tr>\n",
       "    <tr>\n",
       "      <th>5717</th>\n",
       "      <td>2020-09-15T17:03:46Z</td>\n",
       "      <td>250</td>\n",
       "      <td>250</td>\n",
       "      <td>cus_HTHKDcrJQlMzMN</td>\n",
       "      <td>US</td>\n",
       "    </tr>\n",
       "    <tr>\n",
       "      <th>5718</th>\n",
       "      <td>2020-12-15T17:03:16Z</td>\n",
       "      <td>250</td>\n",
       "      <td>250</td>\n",
       "      <td>cus_HTHKDcrJQlMzMN</td>\n",
       "      <td>US</td>\n",
       "    </tr>\n",
       "    <tr>\n",
       "      <th>5719</th>\n",
       "      <td>2020-12-25T18:28:10Z</td>\n",
       "      <td>250</td>\n",
       "      <td>250</td>\n",
       "      <td>cus_ISMVNIcM431qV9</td>\n",
       "      <td>US</td>\n",
       "    </tr>\n",
       "  </tbody>\n",
       "</table>\n",
       "<p>997 rows × 5 columns</p>\n",
       "</div>"
      ],
      "text/plain": [
       "                   created  paid  refunded            customer card__country\n",
       "0     2020-10-21T04:45:40Z   250       250  cus_IF3JcGrw0aMpgv            US\n",
       "1     2020-10-27T23:02:31Z   250       250  cus_IHaMqtFwUNAO09            US\n",
       "3     2020-11-17T19:51:25Z   750         0  cus_HbD8AagiDUOBoG            US\n",
       "6     2020-11-17T22:18:09Z   250         0  cus_FH0Csodtt6j0ff            US\n",
       "7     2020-11-17T23:05:19Z  1000         0  cus_IBtiU1rmRe2oKe            US\n",
       "...                    ...   ...       ...                 ...           ...\n",
       "5715  2020-08-15T17:03:43Z   250       250  cus_HTHKDcrJQlMzMN            US\n",
       "5716  2020-11-15T17:03:25Z   250       250  cus_HTHKDcrJQlMzMN            US\n",
       "5717  2020-09-15T17:03:46Z   250       250  cus_HTHKDcrJQlMzMN            US\n",
       "5718  2020-12-15T17:03:16Z   250       250  cus_HTHKDcrJQlMzMN            US\n",
       "5719  2020-12-25T18:28:10Z   250       250  cus_ISMVNIcM431qV9            US\n",
       "\n",
       "[997 rows x 5 columns]"
      ]
     },
     "execution_count": 13,
     "metadata": {},
     "output_type": "execute_result"
    }
   ],
   "source": [
    "US_data = cleaned_data[cleaned_data['card__country']=='US']\n",
    "US_data"
   ]
  },
  {
   "cell_type": "code",
   "execution_count": 14,
   "metadata": {},
   "outputs": [
    {
     "name": "stderr",
     "output_type": "stream",
     "text": [
      "<ipython-input-14-99bc6e1ba7ea>:2: SettingWithCopyWarning: \n",
      "A value is trying to be set on a copy of a slice from a DataFrame.\n",
      "Try using .loc[row_indexer,col_indexer] = value instead\n",
      "\n",
      "See the caveats in the documentation: https://pandas.pydata.org/pandas-docs/stable/user_guide/indexing.html#returning-a-view-versus-a-copy\n",
      "  US_data['created'] = pd.to_datetime(US_data['created'])\n"
     ]
    },
    {
     "data": {
      "text/html": [
       "<div>\n",
       "<style scoped>\n",
       "    .dataframe tbody tr th:only-of-type {\n",
       "        vertical-align: middle;\n",
       "    }\n",
       "\n",
       "    .dataframe tbody tr th {\n",
       "        vertical-align: top;\n",
       "    }\n",
       "\n",
       "    .dataframe thead th {\n",
       "        text-align: right;\n",
       "    }\n",
       "</style>\n",
       "<table border=\"1\" class=\"dataframe\">\n",
       "  <thead>\n",
       "    <tr style=\"text-align: right;\">\n",
       "      <th></th>\n",
       "      <th>created</th>\n",
       "      <th>paid</th>\n",
       "      <th>refunded</th>\n",
       "      <th>customer</th>\n",
       "      <th>card__country</th>\n",
       "    </tr>\n",
       "  </thead>\n",
       "  <tbody>\n",
       "    <tr>\n",
       "      <th>0</th>\n",
       "      <td>2020-10-21 04:45:40+00:00</td>\n",
       "      <td>250</td>\n",
       "      <td>250</td>\n",
       "      <td>cus_IF3JcGrw0aMpgv</td>\n",
       "      <td>US</td>\n",
       "    </tr>\n",
       "    <tr>\n",
       "      <th>1</th>\n",
       "      <td>2020-10-27 23:02:31+00:00</td>\n",
       "      <td>250</td>\n",
       "      <td>250</td>\n",
       "      <td>cus_IHaMqtFwUNAO09</td>\n",
       "      <td>US</td>\n",
       "    </tr>\n",
       "    <tr>\n",
       "      <th>3</th>\n",
       "      <td>2020-11-17 19:51:25+00:00</td>\n",
       "      <td>750</td>\n",
       "      <td>0</td>\n",
       "      <td>cus_HbD8AagiDUOBoG</td>\n",
       "      <td>US</td>\n",
       "    </tr>\n",
       "    <tr>\n",
       "      <th>6</th>\n",
       "      <td>2020-11-17 22:18:09+00:00</td>\n",
       "      <td>250</td>\n",
       "      <td>0</td>\n",
       "      <td>cus_FH0Csodtt6j0ff</td>\n",
       "      <td>US</td>\n",
       "    </tr>\n",
       "    <tr>\n",
       "      <th>7</th>\n",
       "      <td>2020-11-17 23:05:19+00:00</td>\n",
       "      <td>1000</td>\n",
       "      <td>0</td>\n",
       "      <td>cus_IBtiU1rmRe2oKe</td>\n",
       "      <td>US</td>\n",
       "    </tr>\n",
       "    <tr>\n",
       "      <th>...</th>\n",
       "      <td>...</td>\n",
       "      <td>...</td>\n",
       "      <td>...</td>\n",
       "      <td>...</td>\n",
       "      <td>...</td>\n",
       "    </tr>\n",
       "    <tr>\n",
       "      <th>5715</th>\n",
       "      <td>2020-08-15 17:03:43+00:00</td>\n",
       "      <td>250</td>\n",
       "      <td>250</td>\n",
       "      <td>cus_HTHKDcrJQlMzMN</td>\n",
       "      <td>US</td>\n",
       "    </tr>\n",
       "    <tr>\n",
       "      <th>5716</th>\n",
       "      <td>2020-11-15 17:03:25+00:00</td>\n",
       "      <td>250</td>\n",
       "      <td>250</td>\n",
       "      <td>cus_HTHKDcrJQlMzMN</td>\n",
       "      <td>US</td>\n",
       "    </tr>\n",
       "    <tr>\n",
       "      <th>5717</th>\n",
       "      <td>2020-09-15 17:03:46+00:00</td>\n",
       "      <td>250</td>\n",
       "      <td>250</td>\n",
       "      <td>cus_HTHKDcrJQlMzMN</td>\n",
       "      <td>US</td>\n",
       "    </tr>\n",
       "    <tr>\n",
       "      <th>5718</th>\n",
       "      <td>2020-12-15 17:03:16+00:00</td>\n",
       "      <td>250</td>\n",
       "      <td>250</td>\n",
       "      <td>cus_HTHKDcrJQlMzMN</td>\n",
       "      <td>US</td>\n",
       "    </tr>\n",
       "    <tr>\n",
       "      <th>5719</th>\n",
       "      <td>2020-12-25 18:28:10+00:00</td>\n",
       "      <td>250</td>\n",
       "      <td>250</td>\n",
       "      <td>cus_ISMVNIcM431qV9</td>\n",
       "      <td>US</td>\n",
       "    </tr>\n",
       "  </tbody>\n",
       "</table>\n",
       "<p>997 rows × 5 columns</p>\n",
       "</div>"
      ],
      "text/plain": [
       "                       created  paid  refunded            customer  \\\n",
       "0    2020-10-21 04:45:40+00:00   250       250  cus_IF3JcGrw0aMpgv   \n",
       "1    2020-10-27 23:02:31+00:00   250       250  cus_IHaMqtFwUNAO09   \n",
       "3    2020-11-17 19:51:25+00:00   750         0  cus_HbD8AagiDUOBoG   \n",
       "6    2020-11-17 22:18:09+00:00   250         0  cus_FH0Csodtt6j0ff   \n",
       "7    2020-11-17 23:05:19+00:00  1000         0  cus_IBtiU1rmRe2oKe   \n",
       "...                        ...   ...       ...                 ...   \n",
       "5715 2020-08-15 17:03:43+00:00   250       250  cus_HTHKDcrJQlMzMN   \n",
       "5716 2020-11-15 17:03:25+00:00   250       250  cus_HTHKDcrJQlMzMN   \n",
       "5717 2020-09-15 17:03:46+00:00   250       250  cus_HTHKDcrJQlMzMN   \n",
       "5718 2020-12-15 17:03:16+00:00   250       250  cus_HTHKDcrJQlMzMN   \n",
       "5719 2020-12-25 18:28:10+00:00   250       250  cus_ISMVNIcM431qV9   \n",
       "\n",
       "     card__country  \n",
       "0               US  \n",
       "1               US  \n",
       "3               US  \n",
       "6               US  \n",
       "7               US  \n",
       "...            ...  \n",
       "5715            US  \n",
       "5716            US  \n",
       "5717            US  \n",
       "5718            US  \n",
       "5719            US  \n",
       "\n",
       "[997 rows x 5 columns]"
      ]
     },
     "execution_count": 14,
     "metadata": {},
     "output_type": "execute_result"
    }
   ],
   "source": [
    "#converting into proper format\n",
    "US_data['created'] = pd.to_datetime(US_data['created'])\n",
    "US_data"
   ]
  },
  {
   "cell_type": "code",
   "execution_count": 15,
   "metadata": {},
   "outputs": [
    {
     "data": {
      "text/html": [
       "<div>\n",
       "<style scoped>\n",
       "    .dataframe tbody tr th:only-of-type {\n",
       "        vertical-align: middle;\n",
       "    }\n",
       "\n",
       "    .dataframe tbody tr th {\n",
       "        vertical-align: top;\n",
       "    }\n",
       "\n",
       "    .dataframe thead th {\n",
       "        text-align: right;\n",
       "    }\n",
       "</style>\n",
       "<table border=\"1\" class=\"dataframe\">\n",
       "  <thead>\n",
       "    <tr style=\"text-align: right;\">\n",
       "      <th></th>\n",
       "      <th>paid</th>\n",
       "      <th>refunded</th>\n",
       "    </tr>\n",
       "  </thead>\n",
       "  <tbody>\n",
       "    <tr>\n",
       "      <th>paid</th>\n",
       "      <td>1.000000</td>\n",
       "      <td>0.332021</td>\n",
       "    </tr>\n",
       "    <tr>\n",
       "      <th>refunded</th>\n",
       "      <td>0.332021</td>\n",
       "      <td>1.000000</td>\n",
       "    </tr>\n",
       "  </tbody>\n",
       "</table>\n",
       "</div>"
      ],
      "text/plain": [
       "              paid  refunded\n",
       "paid      1.000000  0.332021\n",
       "refunded  0.332021  1.000000"
      ]
     },
     "execution_count": 15,
     "metadata": {},
     "output_type": "execute_result"
    }
   ],
   "source": [
    "US_data.corr()"
   ]
  },
  {
   "cell_type": "markdown",
   "metadata": {},
   "source": [
    "# Munging and Wrangling data for US"
   ]
  },
  {
   "cell_type": "code",
   "execution_count": 16,
   "metadata": {},
   "outputs": [],
   "source": [
    "def monthly(x):\n",
    "    return datetime.datetime(x.year, x.month, 1)"
   ]
  },
  {
   "cell_type": "code",
   "execution_count": 17,
   "metadata": {
    "scrolled": true
   },
   "outputs": [
    {
     "name": "stderr",
     "output_type": "stream",
     "text": [
      "<ipython-input-17-35478d173ddf>:2: SettingWithCopyWarning: \n",
      "A value is trying to be set on a copy of a slice from a DataFrame.\n",
      "Try using .loc[row_indexer,col_indexer] = value instead\n",
      "\n",
      "See the caveats in the documentation: https://pandas.pydata.org/pandas-docs/stable/user_guide/indexing.html#returning-a-view-versus-a-copy\n",
      "  US_data['InvoiceMonth'] = US_data['created'].apply(monthly)\n"
     ]
    }
   ],
   "source": [
    "#Create a new column \n",
    "US_data['InvoiceMonth'] = US_data['created'].apply(monthly)"
   ]
  },
  {
   "cell_type": "code",
   "execution_count": 18,
   "metadata": {},
   "outputs": [
    {
     "data": {
      "text/plain": [
       "0      2020-10-01\n",
       "1      2020-10-01\n",
       "3      2020-11-01\n",
       "6      2020-11-01\n",
       "7      2020-11-01\n",
       "          ...    \n",
       "5715   2020-08-01\n",
       "5716   2020-11-01\n",
       "5717   2020-09-01\n",
       "5718   2020-12-01\n",
       "5719   2020-12-01\n",
       "Name: InvoiceMonth, Length: 997, dtype: datetime64[ns]"
      ]
     },
     "execution_count": 18,
     "metadata": {},
     "output_type": "execute_result"
    }
   ],
   "source": [
    "#Always inspect the data you've just created\n",
    "US_data['InvoiceMonth']"
   ]
  },
  {
   "cell_type": "code",
   "execution_count": 19,
   "metadata": {},
   "outputs": [
    {
     "name": "stderr",
     "output_type": "stream",
     "text": [
      "<ipython-input-19-fcf7626816be>:2: SettingWithCopyWarning: \n",
      "A value is trying to be set on a copy of a slice from a DataFrame.\n",
      "Try using .loc[row_indexer,col_indexer] = value instead\n",
      "\n",
      "See the caveats in the documentation: https://pandas.pydata.org/pandas-docs/stable/user_guide/indexing.html#returning-a-view-versus-a-copy\n",
      "  US_data['CohortMonth'] = US_data.groupby('customer')['InvoiceMonth'].transform('min')\n"
     ]
    }
   ],
   "source": [
    "#Create a CohortMonth column by grouping data and selecting the earliest instance in the data. \n",
    "US_data['CohortMonth'] = US_data.groupby('customer')['InvoiceMonth'].transform('min')"
   ]
  },
  {
   "cell_type": "code",
   "execution_count": 20,
   "metadata": {},
   "outputs": [
    {
     "data": {
      "text/plain": [
       "0      2020-10-01\n",
       "1      2020-10-01\n",
       "3      2020-11-01\n",
       "6      2020-11-01\n",
       "7      2020-11-01\n",
       "          ...    \n",
       "5715   2020-06-01\n",
       "5716   2020-06-01\n",
       "5717   2020-06-01\n",
       "5718   2020-06-01\n",
       "5719   2020-11-01\n",
       "Name: CohortMonth, Length: 997, dtype: datetime64[ns]"
      ]
     },
     "execution_count": 20,
     "metadata": {},
     "output_type": "execute_result"
    }
   ],
   "source": [
    "US_data['CohortMonth']"
   ]
  },
  {
   "cell_type": "code",
   "execution_count": 21,
   "metadata": {},
   "outputs": [
    {
     "data": {
      "text/html": [
       "<div>\n",
       "<style scoped>\n",
       "    .dataframe tbody tr th:only-of-type {\n",
       "        vertical-align: middle;\n",
       "    }\n",
       "\n",
       "    .dataframe tbody tr th {\n",
       "        vertical-align: top;\n",
       "    }\n",
       "\n",
       "    .dataframe thead th {\n",
       "        text-align: right;\n",
       "    }\n",
       "</style>\n",
       "<table border=\"1\" class=\"dataframe\">\n",
       "  <thead>\n",
       "    <tr style=\"text-align: right;\">\n",
       "      <th></th>\n",
       "      <th>created</th>\n",
       "      <th>paid</th>\n",
       "      <th>refunded</th>\n",
       "      <th>customer</th>\n",
       "      <th>card__country</th>\n",
       "      <th>InvoiceMonth</th>\n",
       "      <th>CohortMonth</th>\n",
       "    </tr>\n",
       "  </thead>\n",
       "  <tbody>\n",
       "    <tr>\n",
       "      <th>0</th>\n",
       "      <td>2020-10-21 04:45:40+00:00</td>\n",
       "      <td>250</td>\n",
       "      <td>250</td>\n",
       "      <td>cus_IF3JcGrw0aMpgv</td>\n",
       "      <td>US</td>\n",
       "      <td>2020-10-01</td>\n",
       "      <td>2020-10-01</td>\n",
       "    </tr>\n",
       "    <tr>\n",
       "      <th>1</th>\n",
       "      <td>2020-10-27 23:02:31+00:00</td>\n",
       "      <td>250</td>\n",
       "      <td>250</td>\n",
       "      <td>cus_IHaMqtFwUNAO09</td>\n",
       "      <td>US</td>\n",
       "      <td>2020-10-01</td>\n",
       "      <td>2020-10-01</td>\n",
       "    </tr>\n",
       "    <tr>\n",
       "      <th>3</th>\n",
       "      <td>2020-11-17 19:51:25+00:00</td>\n",
       "      <td>750</td>\n",
       "      <td>0</td>\n",
       "      <td>cus_HbD8AagiDUOBoG</td>\n",
       "      <td>US</td>\n",
       "      <td>2020-11-01</td>\n",
       "      <td>2020-11-01</td>\n",
       "    </tr>\n",
       "    <tr>\n",
       "      <th>6</th>\n",
       "      <td>2020-11-17 22:18:09+00:00</td>\n",
       "      <td>250</td>\n",
       "      <td>0</td>\n",
       "      <td>cus_FH0Csodtt6j0ff</td>\n",
       "      <td>US</td>\n",
       "      <td>2020-11-01</td>\n",
       "      <td>2020-11-01</td>\n",
       "    </tr>\n",
       "    <tr>\n",
       "      <th>7</th>\n",
       "      <td>2020-11-17 23:05:19+00:00</td>\n",
       "      <td>1000</td>\n",
       "      <td>0</td>\n",
       "      <td>cus_IBtiU1rmRe2oKe</td>\n",
       "      <td>US</td>\n",
       "      <td>2020-11-01</td>\n",
       "      <td>2020-11-01</td>\n",
       "    </tr>\n",
       "  </tbody>\n",
       "</table>\n",
       "</div>"
      ],
      "text/plain": [
       "                    created  paid  refunded            customer card__country  \\\n",
       "0 2020-10-21 04:45:40+00:00   250       250  cus_IF3JcGrw0aMpgv            US   \n",
       "1 2020-10-27 23:02:31+00:00   250       250  cus_IHaMqtFwUNAO09            US   \n",
       "3 2020-11-17 19:51:25+00:00   750         0  cus_HbD8AagiDUOBoG            US   \n",
       "6 2020-11-17 22:18:09+00:00   250         0  cus_FH0Csodtt6j0ff            US   \n",
       "7 2020-11-17 23:05:19+00:00  1000         0  cus_IBtiU1rmRe2oKe            US   \n",
       "\n",
       "  InvoiceMonth CohortMonth  \n",
       "0   2020-10-01  2020-10-01  \n",
       "1   2020-10-01  2020-10-01  \n",
       "3   2020-11-01  2020-11-01  \n",
       "6   2020-11-01  2020-11-01  \n",
       "7   2020-11-01  2020-11-01  "
      ]
     },
     "execution_count": 21,
     "metadata": {},
     "output_type": "execute_result"
    }
   ],
   "source": [
    "US_data.head()"
   ]
  },
  {
   "cell_type": "markdown",
   "metadata": {},
   "source": [
    "# Create the Cohort for US Customers"
   ]
  },
  {
   "cell_type": "code",
   "execution_count": 22,
   "metadata": {},
   "outputs": [],
   "source": [
    "def get_int(df, column):\n",
    "    year = df[column].dt.year\n",
    "    month = df[column].dt.month\n",
    "    return year, month"
   ]
  },
  {
   "cell_type": "code",
   "execution_count": 23,
   "metadata": {},
   "outputs": [],
   "source": [
    "invoiceYear, invoiceMonth = get_int(US_data, 'InvoiceMonth')\n",
    "cohortYear, cohortMonth = get_int(US_data, 'CohortMonth')"
   ]
  },
  {
   "cell_type": "code",
   "execution_count": 24,
   "metadata": {},
   "outputs": [],
   "source": [
    "diffYear = invoiceYear - cohortYear\n",
    "diffMonth = invoiceMonth - cohortMonth"
   ]
  },
  {
   "cell_type": "code",
   "execution_count": 25,
   "metadata": {},
   "outputs": [
    {
     "name": "stderr",
     "output_type": "stream",
     "text": [
      "<ipython-input-25-9c682d16c9f8>:1: SettingWithCopyWarning: \n",
      "A value is trying to be set on a copy of a slice from a DataFrame.\n",
      "Try using .loc[row_indexer,col_indexer] = value instead\n",
      "\n",
      "See the caveats in the documentation: https://pandas.pydata.org/pandas-docs/stable/user_guide/indexing.html#returning-a-view-versus-a-copy\n",
      "  US_data['Month_Index'] = diffYear * 12 + diffMonth + 1\n"
     ]
    }
   ],
   "source": [
    "US_data['Month_Index'] = diffYear * 12 + diffMonth + 1"
   ]
  },
  {
   "cell_type": "code",
   "execution_count": 26,
   "metadata": {},
   "outputs": [
    {
     "data": {
      "text/html": [
       "<div>\n",
       "<style scoped>\n",
       "    .dataframe tbody tr th:only-of-type {\n",
       "        vertical-align: middle;\n",
       "    }\n",
       "\n",
       "    .dataframe tbody tr th {\n",
       "        vertical-align: top;\n",
       "    }\n",
       "\n",
       "    .dataframe thead th {\n",
       "        text-align: right;\n",
       "    }\n",
       "</style>\n",
       "<table border=\"1\" class=\"dataframe\">\n",
       "  <thead>\n",
       "    <tr style=\"text-align: right;\">\n",
       "      <th></th>\n",
       "      <th>created</th>\n",
       "      <th>paid</th>\n",
       "      <th>refunded</th>\n",
       "      <th>customer</th>\n",
       "      <th>card__country</th>\n",
       "      <th>InvoiceMonth</th>\n",
       "      <th>CohortMonth</th>\n",
       "      <th>Month_Index</th>\n",
       "    </tr>\n",
       "  </thead>\n",
       "  <tbody>\n",
       "    <tr>\n",
       "      <th>0</th>\n",
       "      <td>2020-10-21 04:45:40+00:00</td>\n",
       "      <td>250</td>\n",
       "      <td>250</td>\n",
       "      <td>cus_IF3JcGrw0aMpgv</td>\n",
       "      <td>US</td>\n",
       "      <td>2020-10-01</td>\n",
       "      <td>2020-10-01</td>\n",
       "      <td>1</td>\n",
       "    </tr>\n",
       "    <tr>\n",
       "      <th>1</th>\n",
       "      <td>2020-10-27 23:02:31+00:00</td>\n",
       "      <td>250</td>\n",
       "      <td>250</td>\n",
       "      <td>cus_IHaMqtFwUNAO09</td>\n",
       "      <td>US</td>\n",
       "      <td>2020-10-01</td>\n",
       "      <td>2020-10-01</td>\n",
       "      <td>1</td>\n",
       "    </tr>\n",
       "    <tr>\n",
       "      <th>3</th>\n",
       "      <td>2020-11-17 19:51:25+00:00</td>\n",
       "      <td>750</td>\n",
       "      <td>0</td>\n",
       "      <td>cus_HbD8AagiDUOBoG</td>\n",
       "      <td>US</td>\n",
       "      <td>2020-11-01</td>\n",
       "      <td>2020-11-01</td>\n",
       "      <td>1</td>\n",
       "    </tr>\n",
       "    <tr>\n",
       "      <th>6</th>\n",
       "      <td>2020-11-17 22:18:09+00:00</td>\n",
       "      <td>250</td>\n",
       "      <td>0</td>\n",
       "      <td>cus_FH0Csodtt6j0ff</td>\n",
       "      <td>US</td>\n",
       "      <td>2020-11-01</td>\n",
       "      <td>2020-11-01</td>\n",
       "      <td>1</td>\n",
       "    </tr>\n",
       "    <tr>\n",
       "      <th>7</th>\n",
       "      <td>2020-11-17 23:05:19+00:00</td>\n",
       "      <td>1000</td>\n",
       "      <td>0</td>\n",
       "      <td>cus_IBtiU1rmRe2oKe</td>\n",
       "      <td>US</td>\n",
       "      <td>2020-11-01</td>\n",
       "      <td>2020-11-01</td>\n",
       "      <td>1</td>\n",
       "    </tr>\n",
       "  </tbody>\n",
       "</table>\n",
       "</div>"
      ],
      "text/plain": [
       "                    created  paid  refunded            customer card__country  \\\n",
       "0 2020-10-21 04:45:40+00:00   250       250  cus_IF3JcGrw0aMpgv            US   \n",
       "1 2020-10-27 23:02:31+00:00   250       250  cus_IHaMqtFwUNAO09            US   \n",
       "3 2020-11-17 19:51:25+00:00   750         0  cus_HbD8AagiDUOBoG            US   \n",
       "6 2020-11-17 22:18:09+00:00   250         0  cus_FH0Csodtt6j0ff            US   \n",
       "7 2020-11-17 23:05:19+00:00  1000         0  cus_IBtiU1rmRe2oKe            US   \n",
       "\n",
       "  InvoiceMonth CohortMonth  Month_Index  \n",
       "0   2020-10-01  2020-10-01            1  \n",
       "1   2020-10-01  2020-10-01            1  \n",
       "3   2020-11-01  2020-11-01            1  \n",
       "6   2020-11-01  2020-11-01            1  \n",
       "7   2020-11-01  2020-11-01            1  "
      ]
     },
     "execution_count": 26,
     "metadata": {},
     "output_type": "execute_result"
    }
   ],
   "source": [
    "US_data.head()"
   ]
  },
  {
   "cell_type": "markdown",
   "metadata": {},
   "source": [
    "# Cohort Analysis for US Customers"
   ]
  },
  {
   "cell_type": "markdown",
   "metadata": {},
   "source": [
    "Finally we create a Cohort Analysis. We're using, what I deem to be, the top most used function for marketering doing data analysis `pd.groupby()`. This allows you to group data by a specific column. Then we'll be using `pd. pivot_table()` to convert the data into a what you would typically recognise as a Cohort Table."
   ]
  },
  {
   "cell_type": "code",
   "execution_count": 27,
   "metadata": {},
   "outputs": [],
   "source": [
    "#Group the data by columns CohortMonth','Month_Index' then aggreate by column 'customer'\n",
    "cohort_USdata = US_data.groupby(\n",
    "    ['CohortMonth', 'Month_Index'])['customer'].apply(pd.Series.nunique).reset_index()"
   ]
  },
  {
   "cell_type": "code",
   "execution_count": 28,
   "metadata": {},
   "outputs": [],
   "source": [
    "#Take the cohort_data and plumb it into a Pivot Table. Setting index, columns and values as below.\n",
    "cohort_UScount = cohort_USdata.pivot_table(index = 'CohortMonth',\n",
    "                                       columns = 'Month_Index',\n",
    "                                       values = 'customer')"
   ]
  },
  {
   "cell_type": "code",
   "execution_count": 29,
   "metadata": {},
   "outputs": [
    {
     "data": {
      "text/html": [
       "<div>\n",
       "<style scoped>\n",
       "    .dataframe tbody tr th:only-of-type {\n",
       "        vertical-align: middle;\n",
       "    }\n",
       "\n",
       "    .dataframe tbody tr th {\n",
       "        vertical-align: top;\n",
       "    }\n",
       "\n",
       "    .dataframe thead th {\n",
       "        text-align: right;\n",
       "    }\n",
       "</style>\n",
       "<table border=\"1\" class=\"dataframe\">\n",
       "  <thead>\n",
       "    <tr style=\"text-align: right;\">\n",
       "      <th>Month_Index</th>\n",
       "      <th>1</th>\n",
       "      <th>2</th>\n",
       "      <th>3</th>\n",
       "      <th>4</th>\n",
       "      <th>5</th>\n",
       "      <th>6</th>\n",
       "      <th>7</th>\n",
       "    </tr>\n",
       "    <tr>\n",
       "      <th>CohortMonth</th>\n",
       "      <th></th>\n",
       "      <th></th>\n",
       "      <th></th>\n",
       "      <th></th>\n",
       "      <th></th>\n",
       "      <th></th>\n",
       "      <th></th>\n",
       "    </tr>\n",
       "  </thead>\n",
       "  <tbody>\n",
       "    <tr>\n",
       "      <th>2020-06-01</th>\n",
       "      <td>1.0</td>\n",
       "      <td>1.0</td>\n",
       "      <td>1.0</td>\n",
       "      <td>1.0</td>\n",
       "      <td>1.0</td>\n",
       "      <td>1.0</td>\n",
       "      <td>1.0</td>\n",
       "    </tr>\n",
       "    <tr>\n",
       "      <th>2020-07-01</th>\n",
       "      <td>1.0</td>\n",
       "      <td>1.0</td>\n",
       "      <td>1.0</td>\n",
       "      <td>1.0</td>\n",
       "      <td>1.0</td>\n",
       "      <td>1.0</td>\n",
       "      <td>NaN</td>\n",
       "    </tr>\n",
       "    <tr>\n",
       "      <th>2020-08-01</th>\n",
       "      <td>4.0</td>\n",
       "      <td>4.0</td>\n",
       "      <td>4.0</td>\n",
       "      <td>2.0</td>\n",
       "      <td>1.0</td>\n",
       "      <td>NaN</td>\n",
       "      <td>NaN</td>\n",
       "    </tr>\n",
       "    <tr>\n",
       "      <th>2020-09-01</th>\n",
       "      <td>1.0</td>\n",
       "      <td>1.0</td>\n",
       "      <td>1.0</td>\n",
       "      <td>NaN</td>\n",
       "      <td>NaN</td>\n",
       "      <td>NaN</td>\n",
       "      <td>NaN</td>\n",
       "    </tr>\n",
       "    <tr>\n",
       "      <th>2020-10-01</th>\n",
       "      <td>45.0</td>\n",
       "      <td>29.0</td>\n",
       "      <td>24.0</td>\n",
       "      <td>NaN</td>\n",
       "      <td>NaN</td>\n",
       "      <td>NaN</td>\n",
       "      <td>NaN</td>\n",
       "    </tr>\n",
       "    <tr>\n",
       "      <th>2020-11-01</th>\n",
       "      <td>292.0</td>\n",
       "      <td>230.0</td>\n",
       "      <td>NaN</td>\n",
       "      <td>NaN</td>\n",
       "      <td>NaN</td>\n",
       "      <td>NaN</td>\n",
       "      <td>NaN</td>\n",
       "    </tr>\n",
       "    <tr>\n",
       "      <th>2020-12-01</th>\n",
       "      <td>65.0</td>\n",
       "      <td>NaN</td>\n",
       "      <td>NaN</td>\n",
       "      <td>NaN</td>\n",
       "      <td>NaN</td>\n",
       "      <td>NaN</td>\n",
       "      <td>NaN</td>\n",
       "    </tr>\n",
       "  </tbody>\n",
       "</table>\n",
       "</div>"
      ],
      "text/plain": [
       "Month_Index      1      2     3    4    5    6    7\n",
       "CohortMonth                                        \n",
       "2020-06-01     1.0    1.0   1.0  1.0  1.0  1.0  1.0\n",
       "2020-07-01     1.0    1.0   1.0  1.0  1.0  1.0  NaN\n",
       "2020-08-01     4.0    4.0   4.0  2.0  1.0  NaN  NaN\n",
       "2020-09-01     1.0    1.0   1.0  NaN  NaN  NaN  NaN\n",
       "2020-10-01    45.0   29.0  24.0  NaN  NaN  NaN  NaN\n",
       "2020-11-01   292.0  230.0   NaN  NaN  NaN  NaN  NaN\n",
       "2020-12-01    65.0    NaN   NaN  NaN  NaN  NaN  NaN"
      ]
     },
     "execution_count": 29,
     "metadata": {},
     "output_type": "execute_result"
    }
   ],
   "source": [
    "cohort_UScount"
   ]
  },
  {
   "cell_type": "markdown",
   "metadata": {},
   "source": [
    "# Create retention as a percentage"
   ]
  },
  {
   "cell_type": "code",
   "execution_count": 30,
   "metadata": {},
   "outputs": [
    {
     "data": {
      "text/html": [
       "<div>\n",
       "<style scoped>\n",
       "    .dataframe tbody tr th:only-of-type {\n",
       "        vertical-align: middle;\n",
       "    }\n",
       "\n",
       "    .dataframe tbody tr th {\n",
       "        vertical-align: top;\n",
       "    }\n",
       "\n",
       "    .dataframe thead th {\n",
       "        text-align: right;\n",
       "    }\n",
       "</style>\n",
       "<table border=\"1\" class=\"dataframe\">\n",
       "  <thead>\n",
       "    <tr style=\"text-align: right;\">\n",
       "      <th>Month_Index</th>\n",
       "      <th>1</th>\n",
       "      <th>2</th>\n",
       "      <th>3</th>\n",
       "      <th>4</th>\n",
       "      <th>5</th>\n",
       "      <th>6</th>\n",
       "      <th>7</th>\n",
       "    </tr>\n",
       "    <tr>\n",
       "      <th>CohortMonth</th>\n",
       "      <th></th>\n",
       "      <th></th>\n",
       "      <th></th>\n",
       "      <th></th>\n",
       "      <th></th>\n",
       "      <th></th>\n",
       "      <th></th>\n",
       "    </tr>\n",
       "  </thead>\n",
       "  <tbody>\n",
       "    <tr>\n",
       "      <th>2020-06-01</th>\n",
       "      <td>1.0</td>\n",
       "      <td>1.000</td>\n",
       "      <td>1.000</td>\n",
       "      <td>1.0</td>\n",
       "      <td>1.00</td>\n",
       "      <td>1.0</td>\n",
       "      <td>1.0</td>\n",
       "    </tr>\n",
       "    <tr>\n",
       "      <th>2020-07-01</th>\n",
       "      <td>1.0</td>\n",
       "      <td>1.000</td>\n",
       "      <td>1.000</td>\n",
       "      <td>1.0</td>\n",
       "      <td>1.00</td>\n",
       "      <td>1.0</td>\n",
       "      <td>NaN</td>\n",
       "    </tr>\n",
       "    <tr>\n",
       "      <th>2020-08-01</th>\n",
       "      <td>1.0</td>\n",
       "      <td>1.000</td>\n",
       "      <td>1.000</td>\n",
       "      <td>0.5</td>\n",
       "      <td>0.25</td>\n",
       "      <td>NaN</td>\n",
       "      <td>NaN</td>\n",
       "    </tr>\n",
       "    <tr>\n",
       "      <th>2020-09-01</th>\n",
       "      <td>1.0</td>\n",
       "      <td>1.000</td>\n",
       "      <td>1.000</td>\n",
       "      <td>NaN</td>\n",
       "      <td>NaN</td>\n",
       "      <td>NaN</td>\n",
       "      <td>NaN</td>\n",
       "    </tr>\n",
       "    <tr>\n",
       "      <th>2020-10-01</th>\n",
       "      <td>1.0</td>\n",
       "      <td>0.644</td>\n",
       "      <td>0.533</td>\n",
       "      <td>NaN</td>\n",
       "      <td>NaN</td>\n",
       "      <td>NaN</td>\n",
       "      <td>NaN</td>\n",
       "    </tr>\n",
       "    <tr>\n",
       "      <th>2020-11-01</th>\n",
       "      <td>1.0</td>\n",
       "      <td>0.788</td>\n",
       "      <td>NaN</td>\n",
       "      <td>NaN</td>\n",
       "      <td>NaN</td>\n",
       "      <td>NaN</td>\n",
       "      <td>NaN</td>\n",
       "    </tr>\n",
       "    <tr>\n",
       "      <th>2020-12-01</th>\n",
       "      <td>1.0</td>\n",
       "      <td>NaN</td>\n",
       "      <td>NaN</td>\n",
       "      <td>NaN</td>\n",
       "      <td>NaN</td>\n",
       "      <td>NaN</td>\n",
       "      <td>NaN</td>\n",
       "    </tr>\n",
       "  </tbody>\n",
       "</table>\n",
       "</div>"
      ],
      "text/plain": [
       "Month_Index    1      2      3    4     5    6    7\n",
       "CohortMonth                                        \n",
       "2020-06-01   1.0  1.000  1.000  1.0  1.00  1.0  1.0\n",
       "2020-07-01   1.0  1.000  1.000  1.0  1.00  1.0  NaN\n",
       "2020-08-01   1.0  1.000  1.000  0.5  0.25  NaN  NaN\n",
       "2020-09-01   1.0  1.000  1.000  NaN   NaN  NaN  NaN\n",
       "2020-10-01   1.0  0.644  0.533  NaN   NaN  NaN  NaN\n",
       "2020-11-01   1.0  0.788    NaN  NaN   NaN  NaN  NaN\n",
       "2020-12-01   1.0    NaN    NaN  NaN   NaN  NaN  NaN"
      ]
     },
     "execution_count": 30,
     "metadata": {},
     "output_type": "execute_result"
    }
   ],
   "source": [
    "cohort_USsize = cohort_UScount.iloc[:,0] #select all the rows : select the first column\n",
    "retention_US = cohort_UScount.divide(cohort_USsize, axis=0) #Divide the cohort by the first column\n",
    "retention_US.round(3) # round the retention to 3 places"
   ]
  },
  {
   "cell_type": "markdown",
   "metadata": {},
   "source": [
    "# Creating cohort heatmaps for US customers"
   ]
  },
  {
   "cell_type": "code",
   "execution_count": 31,
   "metadata": {},
   "outputs": [
    {
     "data": {
      "text/plain": [
       "<Figure size 792x648 with 0 Axes>"
      ]
     },
     "metadata": {},
     "output_type": "display_data"
    },
    {
     "data": {
      "image/png": "[encoded data removed]",
      "text/plain": [
       "<Figure size 792x648 with 2 Axes>"
      ]
     },
     "metadata": {
      "needs_background": "light"
     },
     "output_type": "display_data"
    }
   ],
   "source": [
    "month_list = [ \"Jun '20\", \"Jul '20\", \"Aug '20\", \"Sep '20\", \"Oct '20\", \"Nov '20\", \"Dec '20\"]\n",
    "plt.figure(figsize = (11,9))\n",
    "plt.figure(figsize = (11,9))\n",
    "plt.title('US customers Retention by Monthly Cohorts')\n",
    "sns.heatmap(data = retention_US, \n",
    "            annot = True, \n",
    "            fmt = '.0%', \n",
    "            vmin = 0.0,\n",
    "            vmax = 1.0,\n",
    "            cmap = \"YlGnBu\", yticklabels=month_list)\n",
    "plt.show()"
   ]
  },
  {
   "cell_type": "markdown",
   "metadata": {},
   "source": [
    "Business metric - Rentention rate: The percentage of active customers compared to the total number of customers after a specific time interval is called rentetion rate.\n",
    "\n",
    "\n",
    "The rentention rate dataframe represent US Customers retained across cohorts.\n",
    "* Month_Index represent the cohort\n",
    "* Columns represent the number of months since current cohort.\n",
    "\n",
    "\n",
    "The Aug cohort month and 4th month_index column in figure with values 50% represents, 50% of cohorts (retention)- American customers which signed in Aug 2020 were active 4 months later. \n",
    "\n",
    "Also, 100% value in all cells in column 1 says that this was the month when customer signed up or did their first transaction and have rate of 100% activity."
   ]
  },
  {
   "cell_type": "markdown",
   "metadata": {},
   "source": [
    "# Average paid "
   ]
  },
  {
   "cell_type": "code",
   "execution_count": 32,
   "metadata": {},
   "outputs": [
    {
     "data": {
      "text/html": [
       "<div>\n",
       "<style scoped>\n",
       "    .dataframe tbody tr th:only-of-type {\n",
       "        vertical-align: middle;\n",
       "    }\n",
       "\n",
       "    .dataframe tbody tr th {\n",
       "        vertical-align: top;\n",
       "    }\n",
       "\n",
       "    .dataframe thead th {\n",
       "        text-align: right;\n",
       "    }\n",
       "</style>\n",
       "<table border=\"1\" class=\"dataframe\">\n",
       "  <thead>\n",
       "    <tr style=\"text-align: right;\">\n",
       "      <th>Month_Index</th>\n",
       "      <th>1</th>\n",
       "      <th>2</th>\n",
       "      <th>3</th>\n",
       "      <th>4</th>\n",
       "      <th>5</th>\n",
       "      <th>6</th>\n",
       "      <th>7</th>\n",
       "    </tr>\n",
       "    <tr>\n",
       "      <th>CohortMonth</th>\n",
       "      <th></th>\n",
       "      <th></th>\n",
       "      <th></th>\n",
       "      <th></th>\n",
       "      <th></th>\n",
       "      <th></th>\n",
       "      <th></th>\n",
       "    </tr>\n",
       "  </thead>\n",
       "  <tbody>\n",
       "    <tr>\n",
       "      <th>2020-06-01</th>\n",
       "      <td>250.0</td>\n",
       "      <td>250.0</td>\n",
       "      <td>250.0</td>\n",
       "      <td>250.0</td>\n",
       "      <td>250.0</td>\n",
       "      <td>250.0</td>\n",
       "      <td>250.0</td>\n",
       "    </tr>\n",
       "    <tr>\n",
       "      <th>2020-07-01</th>\n",
       "      <td>250.0</td>\n",
       "      <td>250.0</td>\n",
       "      <td>250.0</td>\n",
       "      <td>250.0</td>\n",
       "      <td>250.0</td>\n",
       "      <td>250.0</td>\n",
       "      <td>NaN</td>\n",
       "    </tr>\n",
       "    <tr>\n",
       "      <th>2020-08-01</th>\n",
       "      <td>250.0</td>\n",
       "      <td>250.0</td>\n",
       "      <td>250.0</td>\n",
       "      <td>250.0</td>\n",
       "      <td>250.0</td>\n",
       "      <td>NaN</td>\n",
       "      <td>NaN</td>\n",
       "    </tr>\n",
       "    <tr>\n",
       "      <th>2020-09-01</th>\n",
       "      <td>250.0</td>\n",
       "      <td>250.0</td>\n",
       "      <td>250.0</td>\n",
       "      <td>NaN</td>\n",
       "      <td>NaN</td>\n",
       "      <td>NaN</td>\n",
       "      <td>NaN</td>\n",
       "    </tr>\n",
       "    <tr>\n",
       "      <th>2020-10-01</th>\n",
       "      <td>292.6</td>\n",
       "      <td>293.5</td>\n",
       "      <td>260.4</td>\n",
       "      <td>NaN</td>\n",
       "      <td>NaN</td>\n",
       "      <td>NaN</td>\n",
       "      <td>NaN</td>\n",
       "    </tr>\n",
       "    <tr>\n",
       "      <th>2020-11-01</th>\n",
       "      <td>275.5</td>\n",
       "      <td>245.0</td>\n",
       "      <td>NaN</td>\n",
       "      <td>NaN</td>\n",
       "      <td>NaN</td>\n",
       "      <td>NaN</td>\n",
       "      <td>NaN</td>\n",
       "    </tr>\n",
       "    <tr>\n",
       "      <th>2020-12-01</th>\n",
       "      <td>421.2</td>\n",
       "      <td>NaN</td>\n",
       "      <td>NaN</td>\n",
       "      <td>NaN</td>\n",
       "      <td>NaN</td>\n",
       "      <td>NaN</td>\n",
       "      <td>NaN</td>\n",
       "    </tr>\n",
       "  </tbody>\n",
       "</table>\n",
       "</div>"
      ],
      "text/plain": [
       "Month_Index      1      2      3      4      5      6      7\n",
       "CohortMonth                                                 \n",
       "2020-06-01   250.0  250.0  250.0  250.0  250.0  250.0  250.0\n",
       "2020-07-01   250.0  250.0  250.0  250.0  250.0  250.0    NaN\n",
       "2020-08-01   250.0  250.0  250.0  250.0  250.0    NaN    NaN\n",
       "2020-09-01   250.0  250.0  250.0    NaN    NaN    NaN    NaN\n",
       "2020-10-01   292.6  293.5  260.4    NaN    NaN    NaN    NaN\n",
       "2020-11-01   275.5  245.0    NaN    NaN    NaN    NaN    NaN\n",
       "2020-12-01   421.2    NaN    NaN    NaN    NaN    NaN    NaN"
      ]
     },
     "execution_count": 32,
     "metadata": {},
     "output_type": "execute_result"
    }
   ],
   "source": [
    "cohort_USdata2 = US_data.groupby(['CohortMonth', 'Month_Index'])['paid'].mean().reset_index()\n",
    "average_paid  = cohort_USdata2.pivot_table(index = 'CohortMonth',\n",
    "                                            columns = 'Month_Index',\n",
    "                                       values = 'paid').round(1)\n",
    "average_paid"
   ]
  },
  {
   "cell_type": "code",
   "execution_count": 33,
   "metadata": {},
   "outputs": [
    {
     "data": {
      "image/png": "[encoded data removed]",
      "text/plain": [
       "<Figure size 792x648 with 2 Axes>"
      ]
     },
     "metadata": {
      "needs_background": "light"
     },
     "output_type": "display_data"
    }
   ],
   "source": [
    "month_list = [ \"Jun '20\", \"Jul '20\", \"Aug '20\", \"Sep '20\", \"Oct '20\", \"Nov '20\", \"Dec '20\"]\n",
    "\n",
    "plt.figure(figsize = (11,9))\n",
    "plt.title('US customers Average paid (Avg Revenue) by Monthly Cohorts')\n",
    "sns.heatmap(data = average_paid, \n",
    "            annot = True,\n",
    "            vmin = 450,\n",
    "            vmax = 0,\n",
    "            cmap = \"BuGn\",\n",
    "             fmt='g', yticklabels=month_list)\n",
    "plt.show()"
   ]
  },
  {
   "cell_type": "markdown",
   "metadata": {},
   "source": [
    "The June cohort month and 4th month_index column in figure with values 250 represents, average revenue made from American customers which signed in jun 2020 and  4 month-index later is 250.\n",
    "\n",
    "Average revenue made from American customers is highest in Dec 2020 and 1 st cohort month_index - 421.2"
   ]
  },
  {
   "cell_type": "markdown",
   "metadata": {},
   "source": [
    "# Average refund"
   ]
  },
  {
   "cell_type": "code",
   "execution_count": 34,
   "metadata": {},
   "outputs": [
    {
     "data": {
      "text/html": [
       "<div>\n",
       "<style scoped>\n",
       "    .dataframe tbody tr th:only-of-type {\n",
       "        vertical-align: middle;\n",
       "    }\n",
       "\n",
       "    .dataframe tbody tr th {\n",
       "        vertical-align: top;\n",
       "    }\n",
       "\n",
       "    .dataframe thead th {\n",
       "        text-align: right;\n",
       "    }\n",
       "</style>\n",
       "<table border=\"1\" class=\"dataframe\">\n",
       "  <thead>\n",
       "    <tr style=\"text-align: right;\">\n",
       "      <th>Month_Index</th>\n",
       "      <th>1</th>\n",
       "      <th>2</th>\n",
       "      <th>3</th>\n",
       "      <th>4</th>\n",
       "      <th>5</th>\n",
       "      <th>6</th>\n",
       "      <th>7</th>\n",
       "    </tr>\n",
       "    <tr>\n",
       "      <th>CohortMonth</th>\n",
       "      <th></th>\n",
       "      <th></th>\n",
       "      <th></th>\n",
       "      <th></th>\n",
       "      <th></th>\n",
       "      <th></th>\n",
       "      <th></th>\n",
       "    </tr>\n",
       "  </thead>\n",
       "  <tbody>\n",
       "    <tr>\n",
       "      <th>2020-06-01</th>\n",
       "      <td>250.0</td>\n",
       "      <td>250.0</td>\n",
       "      <td>250.0</td>\n",
       "      <td>250.0</td>\n",
       "      <td>250.0</td>\n",
       "      <td>250.0</td>\n",
       "      <td>250.0</td>\n",
       "    </tr>\n",
       "    <tr>\n",
       "      <th>2020-07-01</th>\n",
       "      <td>250.0</td>\n",
       "      <td>250.0</td>\n",
       "      <td>250.0</td>\n",
       "      <td>250.0</td>\n",
       "      <td>250.0</td>\n",
       "      <td>250.0</td>\n",
       "      <td>NaN</td>\n",
       "    </tr>\n",
       "    <tr>\n",
       "      <th>2020-08-01</th>\n",
       "      <td>250.0</td>\n",
       "      <td>250.0</td>\n",
       "      <td>250.0</td>\n",
       "      <td>250.0</td>\n",
       "      <td>250.0</td>\n",
       "      <td>NaN</td>\n",
       "      <td>NaN</td>\n",
       "    </tr>\n",
       "    <tr>\n",
       "      <th>2020-09-01</th>\n",
       "      <td>250.0</td>\n",
       "      <td>250.0</td>\n",
       "      <td>250.0</td>\n",
       "      <td>NaN</td>\n",
       "      <td>NaN</td>\n",
       "      <td>NaN</td>\n",
       "      <td>NaN</td>\n",
       "    </tr>\n",
       "    <tr>\n",
       "      <th>2020-10-01</th>\n",
       "      <td>107.6</td>\n",
       "      <td>45.8</td>\n",
       "      <td>31.2</td>\n",
       "      <td>NaN</td>\n",
       "      <td>NaN</td>\n",
       "      <td>NaN</td>\n",
       "      <td>NaN</td>\n",
       "    </tr>\n",
       "    <tr>\n",
       "      <th>2020-11-01</th>\n",
       "      <td>12.9</td>\n",
       "      <td>5.8</td>\n",
       "      <td>NaN</td>\n",
       "      <td>NaN</td>\n",
       "      <td>NaN</td>\n",
       "      <td>NaN</td>\n",
       "      <td>NaN</td>\n",
       "    </tr>\n",
       "    <tr>\n",
       "      <th>2020-12-01</th>\n",
       "      <td>133.0</td>\n",
       "      <td>NaN</td>\n",
       "      <td>NaN</td>\n",
       "      <td>NaN</td>\n",
       "      <td>NaN</td>\n",
       "      <td>NaN</td>\n",
       "      <td>NaN</td>\n",
       "    </tr>\n",
       "  </tbody>\n",
       "</table>\n",
       "</div>"
      ],
      "text/plain": [
       "Month_Index      1      2      3      4      5      6      7\n",
       "CohortMonth                                                 \n",
       "2020-06-01   250.0  250.0  250.0  250.0  250.0  250.0  250.0\n",
       "2020-07-01   250.0  250.0  250.0  250.0  250.0  250.0    NaN\n",
       "2020-08-01   250.0  250.0  250.0  250.0  250.0    NaN    NaN\n",
       "2020-09-01   250.0  250.0  250.0    NaN    NaN    NaN    NaN\n",
       "2020-10-01   107.6   45.8   31.2    NaN    NaN    NaN    NaN\n",
       "2020-11-01    12.9    5.8    NaN    NaN    NaN    NaN    NaN\n",
       "2020-12-01   133.0    NaN    NaN    NaN    NaN    NaN    NaN"
      ]
     },
     "execution_count": 34,
     "metadata": {},
     "output_type": "execute_result"
    }
   ],
   "source": [
    "cohort_USdata3 = US_data.groupby(['CohortMonth', 'Month_Index'])['refunded'].mean().reset_index()\n",
    "average_refund  = cohort_USdata3.pivot_table(index = 'CohortMonth',\n",
    "                                            columns = 'Month_Index',\n",
    "                                       values = 'refunded').round(1)\n",
    "average_refund"
   ]
  },
  {
   "cell_type": "code",
   "execution_count": 35,
   "metadata": {},
   "outputs": [
    {
     "data": {
      "image/png": "[encoded data removed]",
      "text/plain": [
       "<Figure size 792x648 with 2 Axes>"
      ]
     },
     "metadata": {
      "needs_background": "light"
     },
     "output_type": "display_data"
    }
   ],
   "source": [
    "month_list = [ \"Jun '20\", \"Jul '20\", \"Aug '20\", \"Sep '20\", \"Oct '20\", \"Nov '20\", \"Dec '20\"]\n",
    "\n",
    "plt.figure(figsize = (11,9))\n",
    "plt.title('US customers Average refunded (Avg Expenses) by Monthly Cohorts')\n",
    "sns.heatmap(data = average_refund, \n",
    "            annot = True,\n",
    "            vmin = 250,\n",
    "            vmax = 0,\n",
    "            cmap = \"BuGn\", \n",
    "            fmt='g', yticklabels=month_list)\n",
    "plt.show()"
   ]
  },
  {
   "cell_type": "markdown",
   "metadata": {},
   "source": [
    "From the above heat maps from paid (revenue) and refunded(expenses). It is clear that business is not making much profit from American customers Jun 2020 to Sep 2020. We can see more details on heatmaps for profit."
   ]
  },
  {
   "cell_type": "markdown",
   "metadata": {},
   "source": [
    "# Average Profit made from US Customers"
   ]
  },
  {
   "cell_type": "code",
   "execution_count": 36,
   "metadata": {},
   "outputs": [
    {
     "name": "stderr",
     "output_type": "stream",
     "text": [
      "<ipython-input-36-d22ccc76e81e>:2: SettingWithCopyWarning: \n",
      "A value is trying to be set on a copy of a slice from a DataFrame.\n",
      "Try using .loc[row_indexer,col_indexer] = value instead\n",
      "\n",
      "See the caveats in the documentation: https://pandas.pydata.org/pandas-docs/stable/user_guide/indexing.html#returning-a-view-versus-a-copy\n",
      "  US_data['Totalprofit_US'] = US_data['paid'] - US_data['refunded']\n"
     ]
    }
   ],
   "source": [
    "#Create a new column for Total Sales \n",
    "US_data['Totalprofit_US'] = US_data['paid'] - US_data['refunded']"
   ]
  },
  {
   "cell_type": "code",
   "execution_count": 37,
   "metadata": {},
   "outputs": [
    {
     "data": {
      "text/plain": [
       "0       0\n",
       "1       0\n",
       "3     750\n",
       "6     250\n",
       "7    1000\n",
       "Name: Totalprofit_US, dtype: int64"
      ]
     },
     "execution_count": 37,
     "metadata": {},
     "output_type": "execute_result"
    }
   ],
   "source": [
    "US_data['Totalprofit_US'].head()"
   ]
  },
  {
   "cell_type": "code",
   "execution_count": 38,
   "metadata": {},
   "outputs": [
    {
     "data": {
      "text/html": [
       "<div>\n",
       "<style scoped>\n",
       "    .dataframe tbody tr th:only-of-type {\n",
       "        vertical-align: middle;\n",
       "    }\n",
       "\n",
       "    .dataframe tbody tr th {\n",
       "        vertical-align: top;\n",
       "    }\n",
       "\n",
       "    .dataframe thead th {\n",
       "        text-align: right;\n",
       "    }\n",
       "</style>\n",
       "<table border=\"1\" class=\"dataframe\">\n",
       "  <thead>\n",
       "    <tr style=\"text-align: right;\">\n",
       "      <th>Month_Index</th>\n",
       "      <th>1</th>\n",
       "      <th>2</th>\n",
       "      <th>3</th>\n",
       "      <th>4</th>\n",
       "      <th>5</th>\n",
       "      <th>6</th>\n",
       "      <th>7</th>\n",
       "    </tr>\n",
       "    <tr>\n",
       "      <th>CohortMonth</th>\n",
       "      <th></th>\n",
       "      <th></th>\n",
       "      <th></th>\n",
       "      <th></th>\n",
       "      <th></th>\n",
       "      <th></th>\n",
       "      <th></th>\n",
       "    </tr>\n",
       "  </thead>\n",
       "  <tbody>\n",
       "    <tr>\n",
       "      <th>2020-06-01</th>\n",
       "      <td>0.0</td>\n",
       "      <td>0.0</td>\n",
       "      <td>0.0</td>\n",
       "      <td>0.0</td>\n",
       "      <td>0.0</td>\n",
       "      <td>0.0</td>\n",
       "      <td>0.0</td>\n",
       "    </tr>\n",
       "    <tr>\n",
       "      <th>2020-07-01</th>\n",
       "      <td>0.0</td>\n",
       "      <td>0.0</td>\n",
       "      <td>0.0</td>\n",
       "      <td>0.0</td>\n",
       "      <td>0.0</td>\n",
       "      <td>0.0</td>\n",
       "      <td>NaN</td>\n",
       "    </tr>\n",
       "    <tr>\n",
       "      <th>2020-08-01</th>\n",
       "      <td>0.0</td>\n",
       "      <td>0.0</td>\n",
       "      <td>0.0</td>\n",
       "      <td>0.0</td>\n",
       "      <td>0.0</td>\n",
       "      <td>NaN</td>\n",
       "      <td>NaN</td>\n",
       "    </tr>\n",
       "    <tr>\n",
       "      <th>2020-09-01</th>\n",
       "      <td>0.0</td>\n",
       "      <td>0.0</td>\n",
       "      <td>0.0</td>\n",
       "      <td>NaN</td>\n",
       "      <td>NaN</td>\n",
       "      <td>NaN</td>\n",
       "      <td>NaN</td>\n",
       "    </tr>\n",
       "    <tr>\n",
       "      <th>2020-10-01</th>\n",
       "      <td>185.0</td>\n",
       "      <td>247.7</td>\n",
       "      <td>229.2</td>\n",
       "      <td>NaN</td>\n",
       "      <td>NaN</td>\n",
       "      <td>NaN</td>\n",
       "      <td>NaN</td>\n",
       "    </tr>\n",
       "    <tr>\n",
       "      <th>2020-11-01</th>\n",
       "      <td>262.6</td>\n",
       "      <td>239.2</td>\n",
       "      <td>NaN</td>\n",
       "      <td>NaN</td>\n",
       "      <td>NaN</td>\n",
       "      <td>NaN</td>\n",
       "      <td>NaN</td>\n",
       "    </tr>\n",
       "    <tr>\n",
       "      <th>2020-12-01</th>\n",
       "      <td>288.2</td>\n",
       "      <td>NaN</td>\n",
       "      <td>NaN</td>\n",
       "      <td>NaN</td>\n",
       "      <td>NaN</td>\n",
       "      <td>NaN</td>\n",
       "      <td>NaN</td>\n",
       "    </tr>\n",
       "  </tbody>\n",
       "</table>\n",
       "</div>"
      ],
      "text/plain": [
       "Month_Index      1      2      3    4    5    6    7\n",
       "CohortMonth                                         \n",
       "2020-06-01     0.0    0.0    0.0  0.0  0.0  0.0  0.0\n",
       "2020-07-01     0.0    0.0    0.0  0.0  0.0  0.0  NaN\n",
       "2020-08-01     0.0    0.0    0.0  0.0  0.0  NaN  NaN\n",
       "2020-09-01     0.0    0.0    0.0  NaN  NaN  NaN  NaN\n",
       "2020-10-01   185.0  247.7  229.2  NaN  NaN  NaN  NaN\n",
       "2020-11-01   262.6  239.2    NaN  NaN  NaN  NaN  NaN\n",
       "2020-12-01   288.2    NaN    NaN  NaN  NaN  NaN  NaN"
      ]
     },
     "execution_count": 38,
     "metadata": {},
     "output_type": "execute_result"
    }
   ],
   "source": [
    "cohort_USdata3 = US_data.groupby(['CohortMonth', 'Month_Index'])['Totalprofit_US'].mean().reset_index()\n",
    "average_USprofit  = cohort_USdata3.pivot_table(index = 'CohortMonth',\n",
    "                                           columns = 'Month_Index',\n",
    "                                      values = 'Totalprofit_US').round(1)\n",
    "average_USprofit"
   ]
  },
  {
   "cell_type": "code",
   "execution_count": 39,
   "metadata": {
    "scrolled": true
   },
   "outputs": [
    {
     "data": {
      "image/png": "[encoded data removed]",
      "text/plain": [
       "<Figure size 792x648 with 2 Axes>"
      ]
     },
     "metadata": {
      "needs_background": "light"
     },
     "output_type": "display_data"
    }
   ],
   "source": [
    "month_list = [\"Jun '20\", \"Jul '20\", \"Aug '20\", \"Sep '20\", \"Oct '20\", \"Nov '20\", \"Dec '20\"]\n",
    "\n",
    "plt.figure(figsize = (11,9))\n",
    "plt.title('US customers Average Profit by Monthly Cohorts')\n",
    "sns.heatmap(data = average_USprofit, \n",
    "            annot = True,\n",
    "            vmin = 250,\n",
    "            vmax = 0,\n",
    "            cmap = \"BuGn\", \n",
    "            fmt='g', yticklabels=month_list)\n",
    "plt.show()"
   ]
  },
  {
   "cell_type": "markdown",
   "metadata": {},
   "source": [
    "From heatmaps it is clear that business is not making profit from American customers from june 2020 to sep 2020. From Oct 2020 to Dec 2020 company is making profit.\n",
    "For Dec 2020 and 1st cohort Month_index company makes highest average profit for American customers of 288.2"
   ]
  },
  {
   "cell_type": "markdown",
   "metadata": {},
   "source": [
    "# 5. Creating dataframe for Australian customers"
   ]
  },
  {
   "cell_type": "code",
   "execution_count": 40,
   "metadata": {},
   "outputs": [
    {
     "data": {
      "text/html": [
       "<div>\n",
       "<style scoped>\n",
       "    .dataframe tbody tr th:only-of-type {\n",
       "        vertical-align: middle;\n",
       "    }\n",
       "\n",
       "    .dataframe tbody tr th {\n",
       "        vertical-align: top;\n",
       "    }\n",
       "\n",
       "    .dataframe thead th {\n",
       "        text-align: right;\n",
       "    }\n",
       "</style>\n",
       "<table border=\"1\" class=\"dataframe\">\n",
       "  <thead>\n",
       "    <tr style=\"text-align: right;\">\n",
       "      <th></th>\n",
       "      <th>created</th>\n",
       "      <th>paid</th>\n",
       "      <th>refunded</th>\n",
       "      <th>customer</th>\n",
       "      <th>card__country</th>\n",
       "    </tr>\n",
       "  </thead>\n",
       "  <tbody>\n",
       "    <tr>\n",
       "      <th>9</th>\n",
       "      <td>2020-11-17T23:12:04Z</td>\n",
       "      <td>250</td>\n",
       "      <td>0</td>\n",
       "      <td>cus_IPSFRhCvHRLSEz</td>\n",
       "      <td>AU</td>\n",
       "    </tr>\n",
       "    <tr>\n",
       "      <th>10</th>\n",
       "      <td>2020-12-04T06:29:28Z</td>\n",
       "      <td>31</td>\n",
       "      <td>0</td>\n",
       "      <td>cus_Hu0bpPwajQ2UyQ</td>\n",
       "      <td>AU</td>\n",
       "    </tr>\n",
       "    <tr>\n",
       "      <th>20</th>\n",
       "      <td>2020-11-18T07:23:37Z</td>\n",
       "      <td>250</td>\n",
       "      <td>0</td>\n",
       "      <td>cus_IPaBLJmIuD2eN8</td>\n",
       "      <td>AU</td>\n",
       "    </tr>\n",
       "    <tr>\n",
       "      <th>21</th>\n",
       "      <td>2020-11-18T07:49:22Z</td>\n",
       "      <td>250</td>\n",
       "      <td>0</td>\n",
       "      <td>cus_I2iqx77roDhsvr</td>\n",
       "      <td>AU</td>\n",
       "    </tr>\n",
       "    <tr>\n",
       "      <th>33</th>\n",
       "      <td>2020-11-27T00:18:13Z</td>\n",
       "      <td>250</td>\n",
       "      <td>0</td>\n",
       "      <td>cus_HikZLaoalk2E2U</td>\n",
       "      <td>AU</td>\n",
       "    </tr>\n",
       "    <tr>\n",
       "      <th>...</th>\n",
       "      <td>...</td>\n",
       "      <td>...</td>\n",
       "      <td>...</td>\n",
       "      <td>...</td>\n",
       "      <td>...</td>\n",
       "    </tr>\n",
       "    <tr>\n",
       "      <th>5720</th>\n",
       "      <td>2020-10-11T08:11:05Z</td>\n",
       "      <td>250</td>\n",
       "      <td>250</td>\n",
       "      <td>cus_HoUaOBLxK6Klaa</td>\n",
       "      <td>AU</td>\n",
       "    </tr>\n",
       "    <tr>\n",
       "      <th>5721</th>\n",
       "      <td>2020-08-11T07:08:54Z</td>\n",
       "      <td>250</td>\n",
       "      <td>250</td>\n",
       "      <td>cus_HoUaOBLxK6Klaa</td>\n",
       "      <td>AU</td>\n",
       "    </tr>\n",
       "    <tr>\n",
       "      <th>5722</th>\n",
       "      <td>2020-11-11T08:09:52Z</td>\n",
       "      <td>250</td>\n",
       "      <td>250</td>\n",
       "      <td>cus_HoUaOBLxK6Klaa</td>\n",
       "      <td>AU</td>\n",
       "    </tr>\n",
       "    <tr>\n",
       "      <th>5723</th>\n",
       "      <td>2020-09-11T08:09:30Z</td>\n",
       "      <td>250</td>\n",
       "      <td>250</td>\n",
       "      <td>cus_HoUaOBLxK6Klaa</td>\n",
       "      <td>AU</td>\n",
       "    </tr>\n",
       "    <tr>\n",
       "      <th>5724</th>\n",
       "      <td>2020-12-11T08:09:52Z</td>\n",
       "      <td>250</td>\n",
       "      <td>250</td>\n",
       "      <td>cus_HoUaOBLxK6Klaa</td>\n",
       "      <td>AU</td>\n",
       "    </tr>\n",
       "  </tbody>\n",
       "</table>\n",
       "<p>203 rows × 5 columns</p>\n",
       "</div>"
      ],
      "text/plain": [
       "                   created  paid  refunded            customer card__country\n",
       "9     2020-11-17T23:12:04Z   250         0  cus_IPSFRhCvHRLSEz            AU\n",
       "10    2020-12-04T06:29:28Z    31         0  cus_Hu0bpPwajQ2UyQ            AU\n",
       "20    2020-11-18T07:23:37Z   250         0  cus_IPaBLJmIuD2eN8            AU\n",
       "21    2020-11-18T07:49:22Z   250         0  cus_I2iqx77roDhsvr            AU\n",
       "33    2020-11-27T00:18:13Z   250         0  cus_HikZLaoalk2E2U            AU\n",
       "...                    ...   ...       ...                 ...           ...\n",
       "5720  2020-10-11T08:11:05Z   250       250  cus_HoUaOBLxK6Klaa            AU\n",
       "5721  2020-08-11T07:08:54Z   250       250  cus_HoUaOBLxK6Klaa            AU\n",
       "5722  2020-11-11T08:09:52Z   250       250  cus_HoUaOBLxK6Klaa            AU\n",
       "5723  2020-09-11T08:09:30Z   250       250  cus_HoUaOBLxK6Klaa            AU\n",
       "5724  2020-12-11T08:09:52Z   250       250  cus_HoUaOBLxK6Klaa            AU\n",
       "\n",
       "[203 rows x 5 columns]"
      ]
     },
     "execution_count": 40,
     "metadata": {},
     "output_type": "execute_result"
    }
   ],
   "source": [
    "AU_data = cleaned_data[cleaned_data['card__country']=='AU']\n",
    "AU_data"
   ]
  },
  {
   "cell_type": "code",
   "execution_count": 41,
   "metadata": {},
   "outputs": [
    {
     "name": "stderr",
     "output_type": "stream",
     "text": [
      "<ipython-input-41-05ca1f6bda48>:2: SettingWithCopyWarning: \n",
      "A value is trying to be set on a copy of a slice from a DataFrame.\n",
      "Try using .loc[row_indexer,col_indexer] = value instead\n",
      "\n",
      "See the caveats in the documentation: https://pandas.pydata.org/pandas-docs/stable/user_guide/indexing.html#returning-a-view-versus-a-copy\n",
      "  AU_data['created'] = pd.to_datetime(AU_data['created'])\n"
     ]
    },
    {
     "data": {
      "text/html": [
       "<div>\n",
       "<style scoped>\n",
       "    .dataframe tbody tr th:only-of-type {\n",
       "        vertical-align: middle;\n",
       "    }\n",
       "\n",
       "    .dataframe tbody tr th {\n",
       "        vertical-align: top;\n",
       "    }\n",
       "\n",
       "    .dataframe thead th {\n",
       "        text-align: right;\n",
       "    }\n",
       "</style>\n",
       "<table border=\"1\" class=\"dataframe\">\n",
       "  <thead>\n",
       "    <tr style=\"text-align: right;\">\n",
       "      <th></th>\n",
       "      <th>created</th>\n",
       "      <th>paid</th>\n",
       "      <th>refunded</th>\n",
       "      <th>customer</th>\n",
       "      <th>card__country</th>\n",
       "    </tr>\n",
       "  </thead>\n",
       "  <tbody>\n",
       "    <tr>\n",
       "      <th>9</th>\n",
       "      <td>2020-11-17 23:12:04+00:00</td>\n",
       "      <td>250</td>\n",
       "      <td>0</td>\n",
       "      <td>cus_IPSFRhCvHRLSEz</td>\n",
       "      <td>AU</td>\n",
       "    </tr>\n",
       "    <tr>\n",
       "      <th>10</th>\n",
       "      <td>2020-12-04 06:29:28+00:00</td>\n",
       "      <td>31</td>\n",
       "      <td>0</td>\n",
       "      <td>cus_Hu0bpPwajQ2UyQ</td>\n",
       "      <td>AU</td>\n",
       "    </tr>\n",
       "    <tr>\n",
       "      <th>20</th>\n",
       "      <td>2020-11-18 07:23:37+00:00</td>\n",
       "      <td>250</td>\n",
       "      <td>0</td>\n",
       "      <td>cus_IPaBLJmIuD2eN8</td>\n",
       "      <td>AU</td>\n",
       "    </tr>\n",
       "    <tr>\n",
       "      <th>21</th>\n",
       "      <td>2020-11-18 07:49:22+00:00</td>\n",
       "      <td>250</td>\n",
       "      <td>0</td>\n",
       "      <td>cus_I2iqx77roDhsvr</td>\n",
       "      <td>AU</td>\n",
       "    </tr>\n",
       "    <tr>\n",
       "      <th>33</th>\n",
       "      <td>2020-11-27 00:18:13+00:00</td>\n",
       "      <td>250</td>\n",
       "      <td>0</td>\n",
       "      <td>cus_HikZLaoalk2E2U</td>\n",
       "      <td>AU</td>\n",
       "    </tr>\n",
       "    <tr>\n",
       "      <th>...</th>\n",
       "      <td>...</td>\n",
       "      <td>...</td>\n",
       "      <td>...</td>\n",
       "      <td>...</td>\n",
       "      <td>...</td>\n",
       "    </tr>\n",
       "    <tr>\n",
       "      <th>5720</th>\n",
       "      <td>2020-10-11 08:11:05+00:00</td>\n",
       "      <td>250</td>\n",
       "      <td>250</td>\n",
       "      <td>cus_HoUaOBLxK6Klaa</td>\n",
       "      <td>AU</td>\n",
       "    </tr>\n",
       "    <tr>\n",
       "      <th>5721</th>\n",
       "      <td>2020-08-11 07:08:54+00:00</td>\n",
       "      <td>250</td>\n",
       "      <td>250</td>\n",
       "      <td>cus_HoUaOBLxK6Klaa</td>\n",
       "      <td>AU</td>\n",
       "    </tr>\n",
       "    <tr>\n",
       "      <th>5722</th>\n",
       "      <td>2020-11-11 08:09:52+00:00</td>\n",
       "      <td>250</td>\n",
       "      <td>250</td>\n",
       "      <td>cus_HoUaOBLxK6Klaa</td>\n",
       "      <td>AU</td>\n",
       "    </tr>\n",
       "    <tr>\n",
       "      <th>5723</th>\n",
       "      <td>2020-09-11 08:09:30+00:00</td>\n",
       "      <td>250</td>\n",
       "      <td>250</td>\n",
       "      <td>cus_HoUaOBLxK6Klaa</td>\n",
       "      <td>AU</td>\n",
       "    </tr>\n",
       "    <tr>\n",
       "      <th>5724</th>\n",
       "      <td>2020-12-11 08:09:52+00:00</td>\n",
       "      <td>250</td>\n",
       "      <td>250</td>\n",
       "      <td>cus_HoUaOBLxK6Klaa</td>\n",
       "      <td>AU</td>\n",
       "    </tr>\n",
       "  </tbody>\n",
       "</table>\n",
       "<p>203 rows × 5 columns</p>\n",
       "</div>"
      ],
      "text/plain": [
       "                       created  paid  refunded            customer  \\\n",
       "9    2020-11-17 23:12:04+00:00   250         0  cus_IPSFRhCvHRLSEz   \n",
       "10   2020-12-04 06:29:28+00:00    31         0  cus_Hu0bpPwajQ2UyQ   \n",
       "20   2020-11-18 07:23:37+00:00   250         0  cus_IPaBLJmIuD2eN8   \n",
       "21   2020-11-18 07:49:22+00:00   250         0  cus_I2iqx77roDhsvr   \n",
       "33   2020-11-27 00:18:13+00:00   250         0  cus_HikZLaoalk2E2U   \n",
       "...                        ...   ...       ...                 ...   \n",
       "5720 2020-10-11 08:11:05+00:00   250       250  cus_HoUaOBLxK6Klaa   \n",
       "5721 2020-08-11 07:08:54+00:00   250       250  cus_HoUaOBLxK6Klaa   \n",
       "5722 2020-11-11 08:09:52+00:00   250       250  cus_HoUaOBLxK6Klaa   \n",
       "5723 2020-09-11 08:09:30+00:00   250       250  cus_HoUaOBLxK6Klaa   \n",
       "5724 2020-12-11 08:09:52+00:00   250       250  cus_HoUaOBLxK6Klaa   \n",
       "\n",
       "     card__country  \n",
       "9               AU  \n",
       "10              AU  \n",
       "20              AU  \n",
       "21              AU  \n",
       "33              AU  \n",
       "...            ...  \n",
       "5720            AU  \n",
       "5721            AU  \n",
       "5722            AU  \n",
       "5723            AU  \n",
       "5724            AU  \n",
       "\n",
       "[203 rows x 5 columns]"
      ]
     },
     "execution_count": 41,
     "metadata": {},
     "output_type": "execute_result"
    }
   ],
   "source": [
    "#converting into proper format\n",
    "AU_data['created'] = pd.to_datetime(AU_data['created'])\n",
    "AU_data"
   ]
  },
  {
   "cell_type": "code",
   "execution_count": 42,
   "metadata": {},
   "outputs": [
    {
     "data": {
      "text/html": [
       "<div>\n",
       "<style scoped>\n",
       "    .dataframe tbody tr th:only-of-type {\n",
       "        vertical-align: middle;\n",
       "    }\n",
       "\n",
       "    .dataframe tbody tr th {\n",
       "        vertical-align: top;\n",
       "    }\n",
       "\n",
       "    .dataframe thead th {\n",
       "        text-align: right;\n",
       "    }\n",
       "</style>\n",
       "<table border=\"1\" class=\"dataframe\">\n",
       "  <thead>\n",
       "    <tr style=\"text-align: right;\">\n",
       "      <th></th>\n",
       "      <th>paid</th>\n",
       "      <th>refunded</th>\n",
       "    </tr>\n",
       "  </thead>\n",
       "  <tbody>\n",
       "    <tr>\n",
       "      <th>paid</th>\n",
       "      <td>1.000000</td>\n",
       "      <td>0.544292</td>\n",
       "    </tr>\n",
       "    <tr>\n",
       "      <th>refunded</th>\n",
       "      <td>0.544292</td>\n",
       "      <td>1.000000</td>\n",
       "    </tr>\n",
       "  </tbody>\n",
       "</table>\n",
       "</div>"
      ],
      "text/plain": [
       "              paid  refunded\n",
       "paid      1.000000  0.544292\n",
       "refunded  0.544292  1.000000"
      ]
     },
     "execution_count": 42,
     "metadata": {},
     "output_type": "execute_result"
    }
   ],
   "source": [
    "AU_data.corr()"
   ]
  },
  {
   "cell_type": "markdown",
   "metadata": {},
   "source": [
    "# Munging and Wrangling data for AU"
   ]
  },
  {
   "cell_type": "code",
   "execution_count": 43,
   "metadata": {},
   "outputs": [],
   "source": [
    "def monthly(x):\n",
    "    return datetime.datetime(x.year, x.month, 1)"
   ]
  },
  {
   "cell_type": "code",
   "execution_count": 44,
   "metadata": {},
   "outputs": [
    {
     "name": "stderr",
     "output_type": "stream",
     "text": [
      "<ipython-input-44-b4eeb3b351d9>:2: SettingWithCopyWarning: \n",
      "A value is trying to be set on a copy of a slice from a DataFrame.\n",
      "Try using .loc[row_indexer,col_indexer] = value instead\n",
      "\n",
      "See the caveats in the documentation: https://pandas.pydata.org/pandas-docs/stable/user_guide/indexing.html#returning-a-view-versus-a-copy\n",
      "  AU_data['InvoiceMonth'] = AU_data['created'].apply(monthly)\n"
     ]
    }
   ],
   "source": [
    "#Create a new column \n",
    "AU_data['InvoiceMonth'] = AU_data['created'].apply(monthly)"
   ]
  },
  {
   "cell_type": "code",
   "execution_count": 45,
   "metadata": {},
   "outputs": [
    {
     "data": {
      "text/plain": [
       "9      2020-11-01\n",
       "10     2020-12-01\n",
       "20     2020-11-01\n",
       "21     2020-11-01\n",
       "33     2020-11-01\n",
       "          ...    \n",
       "5720   2020-10-01\n",
       "5721   2020-08-01\n",
       "5722   2020-11-01\n",
       "5723   2020-09-01\n",
       "5724   2020-12-01\n",
       "Name: InvoiceMonth, Length: 203, dtype: datetime64[ns]"
      ]
     },
     "execution_count": 45,
     "metadata": {},
     "output_type": "execute_result"
    }
   ],
   "source": [
    "#Always inspect the data you've just created\n",
    "AU_data['InvoiceMonth']"
   ]
  },
  {
   "cell_type": "code",
   "execution_count": 46,
   "metadata": {},
   "outputs": [
    {
     "name": "stderr",
     "output_type": "stream",
     "text": [
      "<ipython-input-46-5b749533d091>:2: SettingWithCopyWarning: \n",
      "A value is trying to be set on a copy of a slice from a DataFrame.\n",
      "Try using .loc[row_indexer,col_indexer] = value instead\n",
      "\n",
      "See the caveats in the documentation: https://pandas.pydata.org/pandas-docs/stable/user_guide/indexing.html#returning-a-view-versus-a-copy\n",
      "  AU_data['CohortMonth'] = AU_data.groupby('customer')['InvoiceMonth'].transform('min')\n"
     ]
    }
   ],
   "source": [
    "#Create a CohortMonth column by grouping data and selecting the earliest instance in the data. \n",
    "AU_data['CohortMonth'] = AU_data.groupby('customer')['InvoiceMonth'].transform('min')"
   ]
  },
  {
   "cell_type": "code",
   "execution_count": 47,
   "metadata": {},
   "outputs": [
    {
     "data": {
      "text/html": [
       "<div>\n",
       "<style scoped>\n",
       "    .dataframe tbody tr th:only-of-type {\n",
       "        vertical-align: middle;\n",
       "    }\n",
       "\n",
       "    .dataframe tbody tr th {\n",
       "        vertical-align: top;\n",
       "    }\n",
       "\n",
       "    .dataframe thead th {\n",
       "        text-align: right;\n",
       "    }\n",
       "</style>\n",
       "<table border=\"1\" class=\"dataframe\">\n",
       "  <thead>\n",
       "    <tr style=\"text-align: right;\">\n",
       "      <th></th>\n",
       "      <th>created</th>\n",
       "      <th>paid</th>\n",
       "      <th>refunded</th>\n",
       "      <th>customer</th>\n",
       "      <th>card__country</th>\n",
       "      <th>InvoiceMonth</th>\n",
       "      <th>CohortMonth</th>\n",
       "    </tr>\n",
       "  </thead>\n",
       "  <tbody>\n",
       "    <tr>\n",
       "      <th>9</th>\n",
       "      <td>2020-11-17 23:12:04+00:00</td>\n",
       "      <td>250</td>\n",
       "      <td>0</td>\n",
       "      <td>cus_IPSFRhCvHRLSEz</td>\n",
       "      <td>AU</td>\n",
       "      <td>2020-11-01</td>\n",
       "      <td>2020-11-01</td>\n",
       "    </tr>\n",
       "    <tr>\n",
       "      <th>10</th>\n",
       "      <td>2020-12-04 06:29:28+00:00</td>\n",
       "      <td>31</td>\n",
       "      <td>0</td>\n",
       "      <td>cus_Hu0bpPwajQ2UyQ</td>\n",
       "      <td>AU</td>\n",
       "      <td>2020-12-01</td>\n",
       "      <td>2020-12-01</td>\n",
       "    </tr>\n",
       "    <tr>\n",
       "      <th>20</th>\n",
       "      <td>2020-11-18 07:23:37+00:00</td>\n",
       "      <td>250</td>\n",
       "      <td>0</td>\n",
       "      <td>cus_IPaBLJmIuD2eN8</td>\n",
       "      <td>AU</td>\n",
       "      <td>2020-11-01</td>\n",
       "      <td>2020-11-01</td>\n",
       "    </tr>\n",
       "    <tr>\n",
       "      <th>21</th>\n",
       "      <td>2020-11-18 07:49:22+00:00</td>\n",
       "      <td>250</td>\n",
       "      <td>0</td>\n",
       "      <td>cus_I2iqx77roDhsvr</td>\n",
       "      <td>AU</td>\n",
       "      <td>2020-11-01</td>\n",
       "      <td>2020-11-01</td>\n",
       "    </tr>\n",
       "    <tr>\n",
       "      <th>33</th>\n",
       "      <td>2020-11-27 00:18:13+00:00</td>\n",
       "      <td>250</td>\n",
       "      <td>0</td>\n",
       "      <td>cus_HikZLaoalk2E2U</td>\n",
       "      <td>AU</td>\n",
       "      <td>2020-11-01</td>\n",
       "      <td>2020-11-01</td>\n",
       "    </tr>\n",
       "  </tbody>\n",
       "</table>\n",
       "</div>"
      ],
      "text/plain": [
       "                     created  paid  refunded            customer  \\\n",
       "9  2020-11-17 23:12:04+00:00   250         0  cus_IPSFRhCvHRLSEz   \n",
       "10 2020-12-04 06:29:28+00:00    31         0  cus_Hu0bpPwajQ2UyQ   \n",
       "20 2020-11-18 07:23:37+00:00   250         0  cus_IPaBLJmIuD2eN8   \n",
       "21 2020-11-18 07:49:22+00:00   250         0  cus_I2iqx77roDhsvr   \n",
       "33 2020-11-27 00:18:13+00:00   250         0  cus_HikZLaoalk2E2U   \n",
       "\n",
       "   card__country InvoiceMonth CohortMonth  \n",
       "9             AU   2020-11-01  2020-11-01  \n",
       "10            AU   2020-12-01  2020-12-01  \n",
       "20            AU   2020-11-01  2020-11-01  \n",
       "21            AU   2020-11-01  2020-11-01  \n",
       "33            AU   2020-11-01  2020-11-01  "
      ]
     },
     "execution_count": 47,
     "metadata": {},
     "output_type": "execute_result"
    }
   ],
   "source": [
    "AU_data.head()"
   ]
  },
  {
   "cell_type": "markdown",
   "metadata": {},
   "source": [
    "# Create the Cohort for AU Customers"
   ]
  },
  {
   "cell_type": "code",
   "execution_count": 48,
   "metadata": {},
   "outputs": [],
   "source": [
    "def get_int(df, column):\n",
    "    year = df[column].dt.year\n",
    "    month = df[column].dt.month\n",
    "    return year, month"
   ]
  },
  {
   "cell_type": "code",
   "execution_count": 49,
   "metadata": {},
   "outputs": [],
   "source": [
    "invoiceYear, invoiceMonth = get_int(AU_data, 'InvoiceMonth')\n",
    "cohortYear, cohortMonth = get_int(AU_data, 'CohortMonth')"
   ]
  },
  {
   "cell_type": "code",
   "execution_count": 50,
   "metadata": {},
   "outputs": [],
   "source": [
    "diffYear = invoiceYear - cohortYear\n",
    "diffMonth = invoiceMonth - cohortMonth"
   ]
  },
  {
   "cell_type": "code",
   "execution_count": 51,
   "metadata": {},
   "outputs": [
    {
     "name": "stderr",
     "output_type": "stream",
     "text": [
      "<ipython-input-51-783c653a0574>:1: SettingWithCopyWarning: \n",
      "A value is trying to be set on a copy of a slice from a DataFrame.\n",
      "Try using .loc[row_indexer,col_indexer] = value instead\n",
      "\n",
      "See the caveats in the documentation: https://pandas.pydata.org/pandas-docs/stable/user_guide/indexing.html#returning-a-view-versus-a-copy\n",
      "  AU_data['Month_Index'] = diffYear * 12 + diffMonth + 1\n"
     ]
    }
   ],
   "source": [
    "AU_data['Month_Index'] = diffYear * 12 + diffMonth + 1"
   ]
  },
  {
   "cell_type": "code",
   "execution_count": 52,
   "metadata": {},
   "outputs": [
    {
     "data": {
      "text/html": [
       "<div>\n",
       "<style scoped>\n",
       "    .dataframe tbody tr th:only-of-type {\n",
       "        vertical-align: middle;\n",
       "    }\n",
       "\n",
       "    .dataframe tbody tr th {\n",
       "        vertical-align: top;\n",
       "    }\n",
       "\n",
       "    .dataframe thead th {\n",
       "        text-align: right;\n",
       "    }\n",
       "</style>\n",
       "<table border=\"1\" class=\"dataframe\">\n",
       "  <thead>\n",
       "    <tr style=\"text-align: right;\">\n",
       "      <th></th>\n",
       "      <th>created</th>\n",
       "      <th>paid</th>\n",
       "      <th>refunded</th>\n",
       "      <th>customer</th>\n",
       "      <th>card__country</th>\n",
       "      <th>InvoiceMonth</th>\n",
       "      <th>CohortMonth</th>\n",
       "      <th>Month_Index</th>\n",
       "    </tr>\n",
       "  </thead>\n",
       "  <tbody>\n",
       "    <tr>\n",
       "      <th>9</th>\n",
       "      <td>2020-11-17 23:12:04+00:00</td>\n",
       "      <td>250</td>\n",
       "      <td>0</td>\n",
       "      <td>cus_IPSFRhCvHRLSEz</td>\n",
       "      <td>AU</td>\n",
       "      <td>2020-11-01</td>\n",
       "      <td>2020-11-01</td>\n",
       "      <td>1</td>\n",
       "    </tr>\n",
       "    <tr>\n",
       "      <th>10</th>\n",
       "      <td>2020-12-04 06:29:28+00:00</td>\n",
       "      <td>31</td>\n",
       "      <td>0</td>\n",
       "      <td>cus_Hu0bpPwajQ2UyQ</td>\n",
       "      <td>AU</td>\n",
       "      <td>2020-12-01</td>\n",
       "      <td>2020-12-01</td>\n",
       "      <td>1</td>\n",
       "    </tr>\n",
       "    <tr>\n",
       "      <th>20</th>\n",
       "      <td>2020-11-18 07:23:37+00:00</td>\n",
       "      <td>250</td>\n",
       "      <td>0</td>\n",
       "      <td>cus_IPaBLJmIuD2eN8</td>\n",
       "      <td>AU</td>\n",
       "      <td>2020-11-01</td>\n",
       "      <td>2020-11-01</td>\n",
       "      <td>1</td>\n",
       "    </tr>\n",
       "    <tr>\n",
       "      <th>21</th>\n",
       "      <td>2020-11-18 07:49:22+00:00</td>\n",
       "      <td>250</td>\n",
       "      <td>0</td>\n",
       "      <td>cus_I2iqx77roDhsvr</td>\n",
       "      <td>AU</td>\n",
       "      <td>2020-11-01</td>\n",
       "      <td>2020-11-01</td>\n",
       "      <td>1</td>\n",
       "    </tr>\n",
       "    <tr>\n",
       "      <th>33</th>\n",
       "      <td>2020-11-27 00:18:13+00:00</td>\n",
       "      <td>250</td>\n",
       "      <td>0</td>\n",
       "      <td>cus_HikZLaoalk2E2U</td>\n",
       "      <td>AU</td>\n",
       "      <td>2020-11-01</td>\n",
       "      <td>2020-11-01</td>\n",
       "      <td>1</td>\n",
       "    </tr>\n",
       "  </tbody>\n",
       "</table>\n",
       "</div>"
      ],
      "text/plain": [
       "                     created  paid  refunded            customer  \\\n",
       "9  2020-11-17 23:12:04+00:00   250         0  cus_IPSFRhCvHRLSEz   \n",
       "10 2020-12-04 06:29:28+00:00    31         0  cus_Hu0bpPwajQ2UyQ   \n",
       "20 2020-11-18 07:23:37+00:00   250         0  cus_IPaBLJmIuD2eN8   \n",
       "21 2020-11-18 07:49:22+00:00   250         0  cus_I2iqx77roDhsvr   \n",
       "33 2020-11-27 00:18:13+00:00   250         0  cus_HikZLaoalk2E2U   \n",
       "\n",
       "   card__country InvoiceMonth CohortMonth  Month_Index  \n",
       "9             AU   2020-11-01  2020-11-01            1  \n",
       "10            AU   2020-12-01  2020-12-01            1  \n",
       "20            AU   2020-11-01  2020-11-01            1  \n",
       "21            AU   2020-11-01  2020-11-01            1  \n",
       "33            AU   2020-11-01  2020-11-01            1  "
      ]
     },
     "execution_count": 52,
     "metadata": {},
     "output_type": "execute_result"
    }
   ],
   "source": [
    "AU_data.head()"
   ]
  },
  {
   "cell_type": "markdown",
   "metadata": {},
   "source": [
    "# Cohort Analysis for AU Customers"
   ]
  },
  {
   "cell_type": "code",
   "execution_count": 53,
   "metadata": {},
   "outputs": [],
   "source": [
    "#Group the data by columns CohortMonth','Month_Index' then aggreate by column 'customer'\n",
    "cohort_AUdata = AU_data.groupby(\n",
    "    ['CohortMonth', 'Month_Index'])['customer'].apply(pd.Series.nunique).reset_index()"
   ]
  },
  {
   "cell_type": "code",
   "execution_count": 54,
   "metadata": {},
   "outputs": [],
   "source": [
    "#Take the cohort_data and plumb it into a Pivot Table. Setting index, columns and values as below.\n",
    "cohort_AUcount = cohort_AUdata.pivot_table(index = 'CohortMonth',\n",
    "                                       columns = 'Month_Index',\n",
    "                                       values = 'customer')"
   ]
  },
  {
   "cell_type": "code",
   "execution_count": 55,
   "metadata": {},
   "outputs": [
    {
     "data": {
      "text/html": [
       "<div>\n",
       "<style scoped>\n",
       "    .dataframe tbody tr th:only-of-type {\n",
       "        vertical-align: middle;\n",
       "    }\n",
       "\n",
       "    .dataframe tbody tr th {\n",
       "        vertical-align: top;\n",
       "    }\n",
       "\n",
       "    .dataframe thead th {\n",
       "        text-align: right;\n",
       "    }\n",
       "</style>\n",
       "<table border=\"1\" class=\"dataframe\">\n",
       "  <thead>\n",
       "    <tr style=\"text-align: right;\">\n",
       "      <th>Month_Index</th>\n",
       "      <th>1</th>\n",
       "      <th>2</th>\n",
       "      <th>3</th>\n",
       "      <th>4</th>\n",
       "      <th>5</th>\n",
       "    </tr>\n",
       "    <tr>\n",
       "      <th>CohortMonth</th>\n",
       "      <th></th>\n",
       "      <th></th>\n",
       "      <th></th>\n",
       "      <th></th>\n",
       "      <th></th>\n",
       "    </tr>\n",
       "  </thead>\n",
       "  <tbody>\n",
       "    <tr>\n",
       "      <th>2020-08-01</th>\n",
       "      <td>1.0</td>\n",
       "      <td>1.0</td>\n",
       "      <td>1.0</td>\n",
       "      <td>1.0</td>\n",
       "      <td>1.0</td>\n",
       "    </tr>\n",
       "    <tr>\n",
       "      <th>2020-10-01</th>\n",
       "      <td>4.0</td>\n",
       "      <td>3.0</td>\n",
       "      <td>3.0</td>\n",
       "      <td>NaN</td>\n",
       "      <td>NaN</td>\n",
       "    </tr>\n",
       "    <tr>\n",
       "      <th>2020-11-01</th>\n",
       "      <td>54.0</td>\n",
       "      <td>37.0</td>\n",
       "      <td>NaN</td>\n",
       "      <td>NaN</td>\n",
       "      <td>NaN</td>\n",
       "    </tr>\n",
       "    <tr>\n",
       "      <th>2020-12-01</th>\n",
       "      <td>12.0</td>\n",
       "      <td>NaN</td>\n",
       "      <td>NaN</td>\n",
       "      <td>NaN</td>\n",
       "      <td>NaN</td>\n",
       "    </tr>\n",
       "  </tbody>\n",
       "</table>\n",
       "</div>"
      ],
      "text/plain": [
       "Month_Index     1     2    3    4    5\n",
       "CohortMonth                           \n",
       "2020-08-01    1.0   1.0  1.0  1.0  1.0\n",
       "2020-10-01    4.0   3.0  3.0  NaN  NaN\n",
       "2020-11-01   54.0  37.0  NaN  NaN  NaN\n",
       "2020-12-01   12.0   NaN  NaN  NaN  NaN"
      ]
     },
     "execution_count": 55,
     "metadata": {},
     "output_type": "execute_result"
    }
   ],
   "source": [
    "cohort_AUcount"
   ]
  },
  {
   "cell_type": "markdown",
   "metadata": {},
   "source": [
    "# Create retention as a percentage"
   ]
  },
  {
   "cell_type": "code",
   "execution_count": 56,
   "metadata": {},
   "outputs": [
    {
     "data": {
      "text/html": [
       "<div>\n",
       "<style scoped>\n",
       "    .dataframe tbody tr th:only-of-type {\n",
       "        vertical-align: middle;\n",
       "    }\n",
       "\n",
       "    .dataframe tbody tr th {\n",
       "        vertical-align: top;\n",
       "    }\n",
       "\n",
       "    .dataframe thead th {\n",
       "        text-align: right;\n",
       "    }\n",
       "</style>\n",
       "<table border=\"1\" class=\"dataframe\">\n",
       "  <thead>\n",
       "    <tr style=\"text-align: right;\">\n",
       "      <th>Month_Index</th>\n",
       "      <th>1</th>\n",
       "      <th>2</th>\n",
       "      <th>3</th>\n",
       "      <th>4</th>\n",
       "      <th>5</th>\n",
       "    </tr>\n",
       "    <tr>\n",
       "      <th>CohortMonth</th>\n",
       "      <th></th>\n",
       "      <th></th>\n",
       "      <th></th>\n",
       "      <th></th>\n",
       "      <th></th>\n",
       "    </tr>\n",
       "  </thead>\n",
       "  <tbody>\n",
       "    <tr>\n",
       "      <th>2020-08-01</th>\n",
       "      <td>1.0</td>\n",
       "      <td>1.000</td>\n",
       "      <td>1.00</td>\n",
       "      <td>1.0</td>\n",
       "      <td>1.0</td>\n",
       "    </tr>\n",
       "    <tr>\n",
       "      <th>2020-10-01</th>\n",
       "      <td>1.0</td>\n",
       "      <td>0.750</td>\n",
       "      <td>0.75</td>\n",
       "      <td>NaN</td>\n",
       "      <td>NaN</td>\n",
       "    </tr>\n",
       "    <tr>\n",
       "      <th>2020-11-01</th>\n",
       "      <td>1.0</td>\n",
       "      <td>0.685</td>\n",
       "      <td>NaN</td>\n",
       "      <td>NaN</td>\n",
       "      <td>NaN</td>\n",
       "    </tr>\n",
       "    <tr>\n",
       "      <th>2020-12-01</th>\n",
       "      <td>1.0</td>\n",
       "      <td>NaN</td>\n",
       "      <td>NaN</td>\n",
       "      <td>NaN</td>\n",
       "      <td>NaN</td>\n",
       "    </tr>\n",
       "  </tbody>\n",
       "</table>\n",
       "</div>"
      ],
      "text/plain": [
       "Month_Index    1      2     3    4    5\n",
       "CohortMonth                            \n",
       "2020-08-01   1.0  1.000  1.00  1.0  1.0\n",
       "2020-10-01   1.0  0.750  0.75  NaN  NaN\n",
       "2020-11-01   1.0  0.685   NaN  NaN  NaN\n",
       "2020-12-01   1.0    NaN   NaN  NaN  NaN"
      ]
     },
     "execution_count": 56,
     "metadata": {},
     "output_type": "execute_result"
    }
   ],
   "source": [
    "cohort_AUsize = cohort_AUcount.iloc[:,0] #select all the rows : select the first column\n",
    "retention_AU = cohort_AUcount.divide(cohort_AUsize, axis=0) #Divide the cohort by the first column\n",
    "retention_AU.round(3) # round the retention to 3 places"
   ]
  },
  {
   "cell_type": "markdown",
   "metadata": {},
   "source": [
    "# Creating cohort heatmaps for AU customers"
   ]
  },
  {
   "cell_type": "code",
   "execution_count": 57,
   "metadata": {},
   "outputs": [
    {
     "data": {
      "text/plain": [
       "<Figure size 792x648 with 0 Axes>"
      ]
     },
     "metadata": {},
     "output_type": "display_data"
    },
    {
     "data": {
      "image/png": "[encoded data removed]",
      "text/plain": [
       "<Figure size 792x648 with 2 Axes>"
      ]
     },
     "metadata": {
      "needs_background": "light"
     },
     "output_type": "display_data"
    }
   ],
   "source": [
    "month_list = [\"Aug '20'\", \"Oct '20\", \"Nov '20\", \"Dec '20\"]\n",
    "plt.figure(figsize = (11,9))\n",
    "plt.figure(figsize = (11,9))\n",
    "plt.title('AU customers Retention by Monthly Cohorts')\n",
    "sns.heatmap(data = retention_AU, \n",
    "            annot = True, \n",
    "            fmt = '.0%', \n",
    "            vmin = 0.0,\n",
    "            vmax = 1.0,\n",
    "            cmap = \"YlGnBu\", yticklabels=month_list)\n",
    "plt.show()"
   ]
  },
  {
   "cell_type": "markdown",
   "metadata": {},
   "source": [
    "The Aug cohort month and 4th month_index column in figure with values 100% represents, 100% of cohorts- Australian customers which signed in Aug 2020 were active 4 months later. \n",
    "\n",
    "Also, 100% value in all cells in column 1 says that this was the month when customer signed up or did their first transaction and have rate of 100% activity.\n",
    "\n",
    "There is no value for sep cohort month. This is because of lot of missing values in data."
   ]
  },
  {
   "cell_type": "markdown",
   "metadata": {},
   "source": [
    "# Average paid"
   ]
  },
  {
   "cell_type": "code",
   "execution_count": 58,
   "metadata": {},
   "outputs": [
    {
     "data": {
      "text/html": [
       "<div>\n",
       "<style scoped>\n",
       "    .dataframe tbody tr th:only-of-type {\n",
       "        vertical-align: middle;\n",
       "    }\n",
       "\n",
       "    .dataframe tbody tr th {\n",
       "        vertical-align: top;\n",
       "    }\n",
       "\n",
       "    .dataframe thead th {\n",
       "        text-align: right;\n",
       "    }\n",
       "</style>\n",
       "<table border=\"1\" class=\"dataframe\">\n",
       "  <thead>\n",
       "    <tr style=\"text-align: right;\">\n",
       "      <th>Month_Index</th>\n",
       "      <th>1</th>\n",
       "      <th>2</th>\n",
       "      <th>3</th>\n",
       "      <th>4</th>\n",
       "      <th>5</th>\n",
       "    </tr>\n",
       "    <tr>\n",
       "      <th>CohortMonth</th>\n",
       "      <th></th>\n",
       "      <th></th>\n",
       "      <th></th>\n",
       "      <th></th>\n",
       "      <th></th>\n",
       "    </tr>\n",
       "  </thead>\n",
       "  <tbody>\n",
       "    <tr>\n",
       "      <th>2020-08-01</th>\n",
       "      <td>250.0</td>\n",
       "      <td>250.0</td>\n",
       "      <td>250.0</td>\n",
       "      <td>250.0</td>\n",
       "      <td>250.0</td>\n",
       "    </tr>\n",
       "    <tr>\n",
       "      <th>2020-10-01</th>\n",
       "      <td>250.0</td>\n",
       "      <td>190.8</td>\n",
       "      <td>250.0</td>\n",
       "      <td>NaN</td>\n",
       "      <td>NaN</td>\n",
       "    </tr>\n",
       "    <tr>\n",
       "      <th>2020-11-01</th>\n",
       "      <td>289.1</td>\n",
       "      <td>269.9</td>\n",
       "      <td>NaN</td>\n",
       "      <td>NaN</td>\n",
       "      <td>NaN</td>\n",
       "    </tr>\n",
       "    <tr>\n",
       "      <th>2020-12-01</th>\n",
       "      <td>189.5</td>\n",
       "      <td>NaN</td>\n",
       "      <td>NaN</td>\n",
       "      <td>NaN</td>\n",
       "      <td>NaN</td>\n",
       "    </tr>\n",
       "  </tbody>\n",
       "</table>\n",
       "</div>"
      ],
      "text/plain": [
       "Month_Index      1      2      3      4      5\n",
       "CohortMonth                                   \n",
       "2020-08-01   250.0  250.0  250.0  250.0  250.0\n",
       "2020-10-01   250.0  190.8  250.0    NaN    NaN\n",
       "2020-11-01   289.1  269.9    NaN    NaN    NaN\n",
       "2020-12-01   189.5    NaN    NaN    NaN    NaN"
      ]
     },
     "execution_count": 58,
     "metadata": {},
     "output_type": "execute_result"
    }
   ],
   "source": [
    "cohort_AUdata2 = AU_data.groupby(['CohortMonth', 'Month_Index'])['paid'].mean().reset_index()\n",
    "average_AUpaid  = cohort_AUdata2.pivot_table(index = 'CohortMonth',\n",
    "                                            columns = 'Month_Index',\n",
    "                                       values = 'paid').round(1)\n",
    "average_AUpaid"
   ]
  },
  {
   "cell_type": "code",
   "execution_count": 59,
   "metadata": {},
   "outputs": [
    {
     "data": {
      "image/png": "[encoded data removed]",
      "text/plain": [
       "<Figure size 792x648 with 2 Axes>"
      ]
     },
     "metadata": {
      "needs_background": "light"
     },
     "output_type": "display_data"
    }
   ],
   "source": [
    "month_list = [  \"Aug '20\", \"Oct '20\", \"Nov '20\", \"Dec '20\"]\n",
    "\n",
    "plt.figure(figsize = (11,9))\n",
    "plt.title('AU customers Average paid (Avg Revenue) by Monthly Cohorts')\n",
    "sns.heatmap(data = average_AUpaid, \n",
    "            annot = True,\n",
    "            vmin = 450,\n",
    "            vmax = 0,\n",
    "            cmap = \"BuGn\",\n",
    "             fmt='g', yticklabels=month_list)\n",
    "plt.show()"
   ]
  },
  {
   "cell_type": "markdown",
   "metadata": {},
   "source": [
    "The Aug cohort month and 4th month_index column in figure with values 250 represents, average revenue made from Australian customers which signed in Aug 2020 and  4 month-index later is 250.\n",
    "\n",
    "Average revenue made from Australian customers is lowest in Dec 2020 and 1 st cohort month_index - 189.5"
   ]
  },
  {
   "cell_type": "markdown",
   "metadata": {},
   "source": [
    "# Average refund"
   ]
  },
  {
   "cell_type": "code",
   "execution_count": 60,
   "metadata": {},
   "outputs": [
    {
     "data": {
      "text/html": [
       "<div>\n",
       "<style scoped>\n",
       "    .dataframe tbody tr th:only-of-type {\n",
       "        vertical-align: middle;\n",
       "    }\n",
       "\n",
       "    .dataframe tbody tr th {\n",
       "        vertical-align: top;\n",
       "    }\n",
       "\n",
       "    .dataframe thead th {\n",
       "        text-align: right;\n",
       "    }\n",
       "</style>\n",
       "<table border=\"1\" class=\"dataframe\">\n",
       "  <thead>\n",
       "    <tr style=\"text-align: right;\">\n",
       "      <th>Month_Index</th>\n",
       "      <th>1</th>\n",
       "      <th>2</th>\n",
       "      <th>3</th>\n",
       "      <th>4</th>\n",
       "      <th>5</th>\n",
       "    </tr>\n",
       "    <tr>\n",
       "      <th>CohortMonth</th>\n",
       "      <th></th>\n",
       "      <th></th>\n",
       "      <th></th>\n",
       "      <th></th>\n",
       "      <th></th>\n",
       "    </tr>\n",
       "  </thead>\n",
       "  <tbody>\n",
       "    <tr>\n",
       "      <th>2020-08-01</th>\n",
       "      <td>250.0</td>\n",
       "      <td>250.0</td>\n",
       "      <td>250.0</td>\n",
       "      <td>250.0</td>\n",
       "      <td>250.0</td>\n",
       "    </tr>\n",
       "    <tr>\n",
       "      <th>2020-10-01</th>\n",
       "      <td>50.0</td>\n",
       "      <td>0.0</td>\n",
       "      <td>0.0</td>\n",
       "      <td>NaN</td>\n",
       "      <td>NaN</td>\n",
       "    </tr>\n",
       "    <tr>\n",
       "      <th>2020-11-01</th>\n",
       "      <td>4.0</td>\n",
       "      <td>0.0</td>\n",
       "      <td>NaN</td>\n",
       "      <td>NaN</td>\n",
       "      <td>NaN</td>\n",
       "    </tr>\n",
       "    <tr>\n",
       "      <th>2020-12-01</th>\n",
       "      <td>56.8</td>\n",
       "      <td>NaN</td>\n",
       "      <td>NaN</td>\n",
       "      <td>NaN</td>\n",
       "      <td>NaN</td>\n",
       "    </tr>\n",
       "  </tbody>\n",
       "</table>\n",
       "</div>"
      ],
      "text/plain": [
       "Month_Index      1      2      3      4      5\n",
       "CohortMonth                                   \n",
       "2020-08-01   250.0  250.0  250.0  250.0  250.0\n",
       "2020-10-01    50.0    0.0    0.0    NaN    NaN\n",
       "2020-11-01     4.0    0.0    NaN    NaN    NaN\n",
       "2020-12-01    56.8    NaN    NaN    NaN    NaN"
      ]
     },
     "execution_count": 60,
     "metadata": {},
     "output_type": "execute_result"
    }
   ],
   "source": [
    "cohort_AUdata3 = AU_data.groupby(['CohortMonth', 'Month_Index'])['refunded'].mean().reset_index()\n",
    "average_AUrefund  = cohort_AUdata3.pivot_table(index = 'CohortMonth',\n",
    "                                            columns = 'Month_Index',\n",
    "                                       values = 'refunded').round(1)\n",
    "average_AUrefund"
   ]
  },
  {
   "cell_type": "code",
   "execution_count": 61,
   "metadata": {},
   "outputs": [
    {
     "data": {
      "image/png": "[encoded data removed]",
      "text/plain": [
       "<Figure size 792x648 with 2 Axes>"
      ]
     },
     "metadata": {
      "needs_background": "light"
     },
     "output_type": "display_data"
    }
   ],
   "source": [
    "month_list = [ \"Aug '20\", \"Oct '20\", \"Nov '20\", \"Dec '20\"]\n",
    "\n",
    "plt.figure(figsize = (11,9))\n",
    "plt.title('AU customers Average refunded(Avg Expenses) by Monthly Cohorts')\n",
    "sns.heatmap(data = average_AUrefund, \n",
    "            annot = True,\n",
    "            vmin = 250,\n",
    "            vmax = 0,\n",
    "            cmap = \"BuGn\", \n",
    "            fmt='g', yticklabels=month_list)\n",
    "plt.show()"
   ]
  },
  {
   "cell_type": "markdown",
   "metadata": {},
   "source": [
    "From the above heat maps from paid (revenue) and refunded(expenses). It is clear that business is not making much profit from Australian customers in  Aug 2020. We can see more details on heatmaps for profit."
   ]
  },
  {
   "cell_type": "markdown",
   "metadata": {},
   "source": [
    "# Average Profit made from AU Customers"
   ]
  },
  {
   "cell_type": "code",
   "execution_count": 62,
   "metadata": {},
   "outputs": [
    {
     "name": "stderr",
     "output_type": "stream",
     "text": [
      "<ipython-input-62-c29d8ada6645>:2: SettingWithCopyWarning: \n",
      "A value is trying to be set on a copy of a slice from a DataFrame.\n",
      "Try using .loc[row_indexer,col_indexer] = value instead\n",
      "\n",
      "See the caveats in the documentation: https://pandas.pydata.org/pandas-docs/stable/user_guide/indexing.html#returning-a-view-versus-a-copy\n",
      "  AU_data['Totalprofit_AU'] = AU_data['paid'] - AU_data['refunded']\n"
     ]
    }
   ],
   "source": [
    "#Create a new column for Total Sales \n",
    "AU_data['Totalprofit_AU'] = AU_data['paid'] - AU_data['refunded']"
   ]
  },
  {
   "cell_type": "code",
   "execution_count": 63,
   "metadata": {},
   "outputs": [
    {
     "data": {
      "text/plain": [
       "9     250\n",
       "10     31\n",
       "20    250\n",
       "21    250\n",
       "33    250\n",
       "Name: Totalprofit_AU, dtype: int64"
      ]
     },
     "execution_count": 63,
     "metadata": {},
     "output_type": "execute_result"
    }
   ],
   "source": [
    "AU_data['Totalprofit_AU'].head()"
   ]
  },
  {
   "cell_type": "code",
   "execution_count": 64,
   "metadata": {},
   "outputs": [
    {
     "data": {
      "text/html": [
       "<div>\n",
       "<style scoped>\n",
       "    .dataframe tbody tr th:only-of-type {\n",
       "        vertical-align: middle;\n",
       "    }\n",
       "\n",
       "    .dataframe tbody tr th {\n",
       "        vertical-align: top;\n",
       "    }\n",
       "\n",
       "    .dataframe thead th {\n",
       "        text-align: right;\n",
       "    }\n",
       "</style>\n",
       "<table border=\"1\" class=\"dataframe\">\n",
       "  <thead>\n",
       "    <tr style=\"text-align: right;\">\n",
       "      <th>Month_Index</th>\n",
       "      <th>1</th>\n",
       "      <th>2</th>\n",
       "      <th>3</th>\n",
       "      <th>4</th>\n",
       "      <th>5</th>\n",
       "    </tr>\n",
       "    <tr>\n",
       "      <th>CohortMonth</th>\n",
       "      <th></th>\n",
       "      <th></th>\n",
       "      <th></th>\n",
       "      <th></th>\n",
       "      <th></th>\n",
       "    </tr>\n",
       "  </thead>\n",
       "  <tbody>\n",
       "    <tr>\n",
       "      <th>2020-08-01</th>\n",
       "      <td>0.0</td>\n",
       "      <td>0.0</td>\n",
       "      <td>0.0</td>\n",
       "      <td>0.0</td>\n",
       "      <td>0.0</td>\n",
       "    </tr>\n",
       "    <tr>\n",
       "      <th>2020-10-01</th>\n",
       "      <td>200.0</td>\n",
       "      <td>190.8</td>\n",
       "      <td>250.0</td>\n",
       "      <td>NaN</td>\n",
       "      <td>NaN</td>\n",
       "    </tr>\n",
       "    <tr>\n",
       "      <th>2020-11-01</th>\n",
       "      <td>285.1</td>\n",
       "      <td>269.9</td>\n",
       "      <td>NaN</td>\n",
       "      <td>NaN</td>\n",
       "      <td>NaN</td>\n",
       "    </tr>\n",
       "    <tr>\n",
       "      <th>2020-12-01</th>\n",
       "      <td>132.7</td>\n",
       "      <td>NaN</td>\n",
       "      <td>NaN</td>\n",
       "      <td>NaN</td>\n",
       "      <td>NaN</td>\n",
       "    </tr>\n",
       "  </tbody>\n",
       "</table>\n",
       "</div>"
      ],
      "text/plain": [
       "Month_Index      1      2      3    4    5\n",
       "CohortMonth                               \n",
       "2020-08-01     0.0    0.0    0.0  0.0  0.0\n",
       "2020-10-01   200.0  190.8  250.0  NaN  NaN\n",
       "2020-11-01   285.1  269.9    NaN  NaN  NaN\n",
       "2020-12-01   132.7    NaN    NaN  NaN  NaN"
      ]
     },
     "execution_count": 64,
     "metadata": {},
     "output_type": "execute_result"
    }
   ],
   "source": [
    "cohort_AUdata3 = AU_data.groupby(['CohortMonth', 'Month_Index'])['Totalprofit_AU'].mean().reset_index()\n",
    "average_AUprofit  = cohort_AUdata3.pivot_table(index = 'CohortMonth',\n",
    "                                           columns = 'Month_Index',\n",
    "                                      values = 'Totalprofit_AU').round(1)\n",
    "average_AUprofit"
   ]
  },
  {
   "cell_type": "code",
   "execution_count": 65,
   "metadata": {
    "scrolled": true
   },
   "outputs": [
    {
     "data": {
      "image/png": "[encoded data removed]",
      "text/plain": [
       "<Figure size 792x648 with 2 Axes>"
      ]
     },
     "metadata": {
      "needs_background": "light"
     },
     "output_type": "display_data"
    }
   ],
   "source": [
    "month_list = [ \"Aug '20\", \"Oct '20\", \"Nov '20\", \"Dec '20\"]\n",
    "\n",
    "plt.figure(figsize = (11,9))\n",
    "plt.title('AU customers Average Profit by Monthly Cohorts')\n",
    "sns.heatmap(data = average_AUprofit, \n",
    "            annot = True,\n",
    "            vmin = 250,\n",
    "            vmax = 0,\n",
    "            cmap = \"BuGn\", \n",
    "            fmt='g', yticklabels=month_list)\n",
    "plt.show()"
   ]
  },
  {
   "cell_type": "markdown",
   "metadata": {},
   "source": [
    "From heatmaps it is clear that business is not making profit from Australian customers in Aug 2020. From Oct 2020 to Dec 2020 company is making profit. For Nov 2020 and 1st cohort Month_index company makes highest average profit for Australian customers of 285.1."
   ]
  },
  {
   "cell_type": "markdown",
   "metadata": {},
   "source": [
    "# 6. Creating dataframe for Canadian customers"
   ]
  },
  {
   "cell_type": "code",
   "execution_count": 66,
   "metadata": {},
   "outputs": [
    {
     "data": {
      "text/html": [
       "<div>\n",
       "<style scoped>\n",
       "    .dataframe tbody tr th:only-of-type {\n",
       "        vertical-align: middle;\n",
       "    }\n",
       "\n",
       "    .dataframe tbody tr th {\n",
       "        vertical-align: top;\n",
       "    }\n",
       "\n",
       "    .dataframe thead th {\n",
       "        text-align: right;\n",
       "    }\n",
       "</style>\n",
       "<table border=\"1\" class=\"dataframe\">\n",
       "  <thead>\n",
       "    <tr style=\"text-align: right;\">\n",
       "      <th></th>\n",
       "      <th>created</th>\n",
       "      <th>paid</th>\n",
       "      <th>refunded</th>\n",
       "      <th>customer</th>\n",
       "      <th>card__country</th>\n",
       "    </tr>\n",
       "  </thead>\n",
       "  <tbody>\n",
       "    <tr>\n",
       "      <th>27</th>\n",
       "      <td>2020-11-18T15:30:24Z</td>\n",
       "      <td>262</td>\n",
       "      <td>0</td>\n",
       "      <td>cus_I2qFY6yixgMXlE</td>\n",
       "      <td>CA</td>\n",
       "    </tr>\n",
       "    <tr>\n",
       "      <th>31</th>\n",
       "      <td>2020-11-17T16:48:07Z</td>\n",
       "      <td>525</td>\n",
       "      <td>0</td>\n",
       "      <td>cus_HuAMgby0dmaLvt</td>\n",
       "      <td>CA</td>\n",
       "    </tr>\n",
       "    <tr>\n",
       "      <th>41</th>\n",
       "      <td>2020-11-04T06:41:06Z</td>\n",
       "      <td>262</td>\n",
       "      <td>262</td>\n",
       "      <td>cus_IKKK06YE3UDPkS</td>\n",
       "      <td>CA</td>\n",
       "    </tr>\n",
       "    <tr>\n",
       "      <th>43</th>\n",
       "      <td>2020-11-08T16:20:37Z</td>\n",
       "      <td>262</td>\n",
       "      <td>262</td>\n",
       "      <td>cus_ILBTbvrwQSN69i</td>\n",
       "      <td>CA</td>\n",
       "    </tr>\n",
       "    <tr>\n",
       "      <th>47</th>\n",
       "      <td>2020-11-16T05:17:49Z</td>\n",
       "      <td>262</td>\n",
       "      <td>262</td>\n",
       "      <td>cus_IOnhjOcyUitT2L</td>\n",
       "      <td>CA</td>\n",
       "    </tr>\n",
       "    <tr>\n",
       "      <th>...</th>\n",
       "      <td>...</td>\n",
       "      <td>...</td>\n",
       "      <td>...</td>\n",
       "      <td>...</td>\n",
       "      <td>...</td>\n",
       "    </tr>\n",
       "    <tr>\n",
       "      <th>5690</th>\n",
       "      <td>2020-10-03T16:17:23Z</td>\n",
       "      <td>282</td>\n",
       "      <td>282</td>\n",
       "      <td>cus_HlceZMWwTp3Iy3</td>\n",
       "      <td>CA</td>\n",
       "    </tr>\n",
       "    <tr>\n",
       "      <th>5696</th>\n",
       "      <td>2020-11-30T17:58:48Z</td>\n",
       "      <td>262</td>\n",
       "      <td>262</td>\n",
       "      <td>cus_HkWcil57GbawZQ</td>\n",
       "      <td>CA</td>\n",
       "    </tr>\n",
       "    <tr>\n",
       "      <th>5697</th>\n",
       "      <td>2020-12-31T17:59:34Z</td>\n",
       "      <td>262</td>\n",
       "      <td>262</td>\n",
       "      <td>cus_HkWcil57GbawZQ</td>\n",
       "      <td>CA</td>\n",
       "    </tr>\n",
       "    <tr>\n",
       "      <th>5698</th>\n",
       "      <td>2020-12-16T22:26:10Z</td>\n",
       "      <td>282</td>\n",
       "      <td>282</td>\n",
       "      <td>cus_IaJ3ZBXF5YhHuk</td>\n",
       "      <td>CA</td>\n",
       "    </tr>\n",
       "    <tr>\n",
       "      <th>5699</th>\n",
       "      <td>2020-11-28T03:00:36Z</td>\n",
       "      <td>282</td>\n",
       "      <td>282</td>\n",
       "      <td>cus_IHdDvCVqeDxoOa</td>\n",
       "      <td>CA</td>\n",
       "    </tr>\n",
       "  </tbody>\n",
       "</table>\n",
       "<p>190 rows × 5 columns</p>\n",
       "</div>"
      ],
      "text/plain": [
       "                   created  paid  refunded            customer card__country\n",
       "27    2020-11-18T15:30:24Z   262         0  cus_I2qFY6yixgMXlE            CA\n",
       "31    2020-11-17T16:48:07Z   525         0  cus_HuAMgby0dmaLvt            CA\n",
       "41    2020-11-04T06:41:06Z   262       262  cus_IKKK06YE3UDPkS            CA\n",
       "43    2020-11-08T16:20:37Z   262       262  cus_ILBTbvrwQSN69i            CA\n",
       "47    2020-11-16T05:17:49Z   262       262  cus_IOnhjOcyUitT2L            CA\n",
       "...                    ...   ...       ...                 ...           ...\n",
       "5690  2020-10-03T16:17:23Z   282       282  cus_HlceZMWwTp3Iy3            CA\n",
       "5696  2020-11-30T17:58:48Z   262       262  cus_HkWcil57GbawZQ            CA\n",
       "5697  2020-12-31T17:59:34Z   262       262  cus_HkWcil57GbawZQ            CA\n",
       "5698  2020-12-16T22:26:10Z   282       282  cus_IaJ3ZBXF5YhHuk            CA\n",
       "5699  2020-11-28T03:00:36Z   282       282  cus_IHdDvCVqeDxoOa            CA\n",
       "\n",
       "[190 rows x 5 columns]"
      ]
     },
     "execution_count": 66,
     "metadata": {},
     "output_type": "execute_result"
    }
   ],
   "source": [
    "CA_data = cleaned_data[cleaned_data['card__country']=='CA']\n",
    "CA_data"
   ]
  },
  {
   "cell_type": "code",
   "execution_count": 67,
   "metadata": {},
   "outputs": [
    {
     "name": "stderr",
     "output_type": "stream",
     "text": [
      "<ipython-input-67-8f9aed3196d7>:2: SettingWithCopyWarning: \n",
      "A value is trying to be set on a copy of a slice from a DataFrame.\n",
      "Try using .loc[row_indexer,col_indexer] = value instead\n",
      "\n",
      "See the caveats in the documentation: https://pandas.pydata.org/pandas-docs/stable/user_guide/indexing.html#returning-a-view-versus-a-copy\n",
      "  CA_data['created'] = pd.to_datetime(CA_data['created'])\n"
     ]
    },
    {
     "data": {
      "text/html": [
       "<div>\n",
       "<style scoped>\n",
       "    .dataframe tbody tr th:only-of-type {\n",
       "        vertical-align: middle;\n",
       "    }\n",
       "\n",
       "    .dataframe tbody tr th {\n",
       "        vertical-align: top;\n",
       "    }\n",
       "\n",
       "    .dataframe thead th {\n",
       "        text-align: right;\n",
       "    }\n",
       "</style>\n",
       "<table border=\"1\" class=\"dataframe\">\n",
       "  <thead>\n",
       "    <tr style=\"text-align: right;\">\n",
       "      <th></th>\n",
       "      <th>created</th>\n",
       "      <th>paid</th>\n",
       "      <th>refunded</th>\n",
       "      <th>customer</th>\n",
       "      <th>card__country</th>\n",
       "    </tr>\n",
       "  </thead>\n",
       "  <tbody>\n",
       "    <tr>\n",
       "      <th>27</th>\n",
       "      <td>2020-11-18 15:30:24+00:00</td>\n",
       "      <td>262</td>\n",
       "      <td>0</td>\n",
       "      <td>cus_I2qFY6yixgMXlE</td>\n",
       "      <td>CA</td>\n",
       "    </tr>\n",
       "    <tr>\n",
       "      <th>31</th>\n",
       "      <td>2020-11-17 16:48:07+00:00</td>\n",
       "      <td>525</td>\n",
       "      <td>0</td>\n",
       "      <td>cus_HuAMgby0dmaLvt</td>\n",
       "      <td>CA</td>\n",
       "    </tr>\n",
       "    <tr>\n",
       "      <th>41</th>\n",
       "      <td>2020-11-04 06:41:06+00:00</td>\n",
       "      <td>262</td>\n",
       "      <td>262</td>\n",
       "      <td>cus_IKKK06YE3UDPkS</td>\n",
       "      <td>CA</td>\n",
       "    </tr>\n",
       "    <tr>\n",
       "      <th>43</th>\n",
       "      <td>2020-11-08 16:20:37+00:00</td>\n",
       "      <td>262</td>\n",
       "      <td>262</td>\n",
       "      <td>cus_ILBTbvrwQSN69i</td>\n",
       "      <td>CA</td>\n",
       "    </tr>\n",
       "    <tr>\n",
       "      <th>47</th>\n",
       "      <td>2020-11-16 05:17:49+00:00</td>\n",
       "      <td>262</td>\n",
       "      <td>262</td>\n",
       "      <td>cus_IOnhjOcyUitT2L</td>\n",
       "      <td>CA</td>\n",
       "    </tr>\n",
       "    <tr>\n",
       "      <th>...</th>\n",
       "      <td>...</td>\n",
       "      <td>...</td>\n",
       "      <td>...</td>\n",
       "      <td>...</td>\n",
       "      <td>...</td>\n",
       "    </tr>\n",
       "    <tr>\n",
       "      <th>5690</th>\n",
       "      <td>2020-10-03 16:17:23+00:00</td>\n",
       "      <td>282</td>\n",
       "      <td>282</td>\n",
       "      <td>cus_HlceZMWwTp3Iy3</td>\n",
       "      <td>CA</td>\n",
       "    </tr>\n",
       "    <tr>\n",
       "      <th>5696</th>\n",
       "      <td>2020-11-30 17:58:48+00:00</td>\n",
       "      <td>262</td>\n",
       "      <td>262</td>\n",
       "      <td>cus_HkWcil57GbawZQ</td>\n",
       "      <td>CA</td>\n",
       "    </tr>\n",
       "    <tr>\n",
       "      <th>5697</th>\n",
       "      <td>2020-12-31 17:59:34+00:00</td>\n",
       "      <td>262</td>\n",
       "      <td>262</td>\n",
       "      <td>cus_HkWcil57GbawZQ</td>\n",
       "      <td>CA</td>\n",
       "    </tr>\n",
       "    <tr>\n",
       "      <th>5698</th>\n",
       "      <td>2020-12-16 22:26:10+00:00</td>\n",
       "      <td>282</td>\n",
       "      <td>282</td>\n",
       "      <td>cus_IaJ3ZBXF5YhHuk</td>\n",
       "      <td>CA</td>\n",
       "    </tr>\n",
       "    <tr>\n",
       "      <th>5699</th>\n",
       "      <td>2020-11-28 03:00:36+00:00</td>\n",
       "      <td>282</td>\n",
       "      <td>282</td>\n",
       "      <td>cus_IHdDvCVqeDxoOa</td>\n",
       "      <td>CA</td>\n",
       "    </tr>\n",
       "  </tbody>\n",
       "</table>\n",
       "<p>190 rows × 5 columns</p>\n",
       "</div>"
      ],
      "text/plain": [
       "                       created  paid  refunded            customer  \\\n",
       "27   2020-11-18 15:30:24+00:00   262         0  cus_I2qFY6yixgMXlE   \n",
       "31   2020-11-17 16:48:07+00:00   525         0  cus_HuAMgby0dmaLvt   \n",
       "41   2020-11-04 06:41:06+00:00   262       262  cus_IKKK06YE3UDPkS   \n",
       "43   2020-11-08 16:20:37+00:00   262       262  cus_ILBTbvrwQSN69i   \n",
       "47   2020-11-16 05:17:49+00:00   262       262  cus_IOnhjOcyUitT2L   \n",
       "...                        ...   ...       ...                 ...   \n",
       "5690 2020-10-03 16:17:23+00:00   282       282  cus_HlceZMWwTp3Iy3   \n",
       "5696 2020-11-30 17:58:48+00:00   262       262  cus_HkWcil57GbawZQ   \n",
       "5697 2020-12-31 17:59:34+00:00   262       262  cus_HkWcil57GbawZQ   \n",
       "5698 2020-12-16 22:26:10+00:00   282       282  cus_IaJ3ZBXF5YhHuk   \n",
       "5699 2020-11-28 03:00:36+00:00   282       282  cus_IHdDvCVqeDxoOa   \n",
       "\n",
       "     card__country  \n",
       "27              CA  \n",
       "31              CA  \n",
       "41              CA  \n",
       "43              CA  \n",
       "47              CA  \n",
       "...            ...  \n",
       "5690            CA  \n",
       "5696            CA  \n",
       "5697            CA  \n",
       "5698            CA  \n",
       "5699            CA  \n",
       "\n",
       "[190 rows x 5 columns]"
      ]
     },
     "execution_count": 67,
     "metadata": {},
     "output_type": "execute_result"
    }
   ],
   "source": [
    "#converting into proper format\n",
    "CA_data['created'] = pd.to_datetime(CA_data['created'])\n",
    "CA_data"
   ]
  },
  {
   "cell_type": "code",
   "execution_count": 68,
   "metadata": {},
   "outputs": [
    {
     "data": {
      "text/html": [
       "<div>\n",
       "<style scoped>\n",
       "    .dataframe tbody tr th:only-of-type {\n",
       "        vertical-align: middle;\n",
       "    }\n",
       "\n",
       "    .dataframe tbody tr th {\n",
       "        vertical-align: top;\n",
       "    }\n",
       "\n",
       "    .dataframe thead th {\n",
       "        text-align: right;\n",
       "    }\n",
       "</style>\n",
       "<table border=\"1\" class=\"dataframe\">\n",
       "  <thead>\n",
       "    <tr style=\"text-align: right;\">\n",
       "      <th></th>\n",
       "      <th>paid</th>\n",
       "      <th>refunded</th>\n",
       "    </tr>\n",
       "  </thead>\n",
       "  <tbody>\n",
       "    <tr>\n",
       "      <th>paid</th>\n",
       "      <td>1.000000</td>\n",
       "      <td>0.925009</td>\n",
       "    </tr>\n",
       "    <tr>\n",
       "      <th>refunded</th>\n",
       "      <td>0.925009</td>\n",
       "      <td>1.000000</td>\n",
       "    </tr>\n",
       "  </tbody>\n",
       "</table>\n",
       "</div>"
      ],
      "text/plain": [
       "              paid  refunded\n",
       "paid      1.000000  0.925009\n",
       "refunded  0.925009  1.000000"
      ]
     },
     "execution_count": 68,
     "metadata": {},
     "output_type": "execute_result"
    }
   ],
   "source": [
    "CA_data.corr()"
   ]
  },
  {
   "cell_type": "markdown",
   "metadata": {},
   "source": [
    "# Munging and Wrangling data for CA"
   ]
  },
  {
   "cell_type": "code",
   "execution_count": 69,
   "metadata": {},
   "outputs": [],
   "source": [
    "def monthly(x):\n",
    "    return datetime.datetime(x.year, x.month, 1)"
   ]
  },
  {
   "cell_type": "code",
   "execution_count": 70,
   "metadata": {},
   "outputs": [
    {
     "name": "stderr",
     "output_type": "stream",
     "text": [
      "<ipython-input-70-c9b1031ea4ef>:2: SettingWithCopyWarning: \n",
      "A value is trying to be set on a copy of a slice from a DataFrame.\n",
      "Try using .loc[row_indexer,col_indexer] = value instead\n",
      "\n",
      "See the caveats in the documentation: https://pandas.pydata.org/pandas-docs/stable/user_guide/indexing.html#returning-a-view-versus-a-copy\n",
      "  CA_data['InvoiceMonth'] = CA_data['created'].apply(monthly)\n"
     ]
    }
   ],
   "source": [
    "#Create a new column \n",
    "CA_data['InvoiceMonth'] = CA_data['created'].apply(monthly)"
   ]
  },
  {
   "cell_type": "code",
   "execution_count": 71,
   "metadata": {},
   "outputs": [
    {
     "name": "stderr",
     "output_type": "stream",
     "text": [
      "<ipython-input-71-3940e7ab9f80>:2: SettingWithCopyWarning: \n",
      "A value is trying to be set on a copy of a slice from a DataFrame.\n",
      "Try using .loc[row_indexer,col_indexer] = value instead\n",
      "\n",
      "See the caveats in the documentation: https://pandas.pydata.org/pandas-docs/stable/user_guide/indexing.html#returning-a-view-versus-a-copy\n",
      "  CA_data['CohortMonth'] = CA_data.groupby('customer')['InvoiceMonth'].transform('min')\n"
     ]
    }
   ],
   "source": [
    "#Create a CohortMonth column by grouping data and selecting the earliest instance in the data. \n",
    "CA_data['CohortMonth'] = CA_data.groupby('customer')['InvoiceMonth'].transform('min')"
   ]
  },
  {
   "cell_type": "code",
   "execution_count": 72,
   "metadata": {},
   "outputs": [
    {
     "data": {
      "text/html": [
       "<div>\n",
       "<style scoped>\n",
       "    .dataframe tbody tr th:only-of-type {\n",
       "        vertical-align: middle;\n",
       "    }\n",
       "\n",
       "    .dataframe tbody tr th {\n",
       "        vertical-align: top;\n",
       "    }\n",
       "\n",
       "    .dataframe thead th {\n",
       "        text-align: right;\n",
       "    }\n",
       "</style>\n",
       "<table border=\"1\" class=\"dataframe\">\n",
       "  <thead>\n",
       "    <tr style=\"text-align: right;\">\n",
       "      <th></th>\n",
       "      <th>created</th>\n",
       "      <th>paid</th>\n",
       "      <th>refunded</th>\n",
       "      <th>customer</th>\n",
       "      <th>card__country</th>\n",
       "      <th>InvoiceMonth</th>\n",
       "      <th>CohortMonth</th>\n",
       "    </tr>\n",
       "  </thead>\n",
       "  <tbody>\n",
       "    <tr>\n",
       "      <th>27</th>\n",
       "      <td>2020-11-18 15:30:24+00:00</td>\n",
       "      <td>262</td>\n",
       "      <td>0</td>\n",
       "      <td>cus_I2qFY6yixgMXlE</td>\n",
       "      <td>CA</td>\n",
       "      <td>2020-11-01</td>\n",
       "      <td>2020-11-01</td>\n",
       "    </tr>\n",
       "    <tr>\n",
       "      <th>31</th>\n",
       "      <td>2020-11-17 16:48:07+00:00</td>\n",
       "      <td>525</td>\n",
       "      <td>0</td>\n",
       "      <td>cus_HuAMgby0dmaLvt</td>\n",
       "      <td>CA</td>\n",
       "      <td>2020-11-01</td>\n",
       "      <td>2020-11-01</td>\n",
       "    </tr>\n",
       "    <tr>\n",
       "      <th>41</th>\n",
       "      <td>2020-11-04 06:41:06+00:00</td>\n",
       "      <td>262</td>\n",
       "      <td>262</td>\n",
       "      <td>cus_IKKK06YE3UDPkS</td>\n",
       "      <td>CA</td>\n",
       "      <td>2020-11-01</td>\n",
       "      <td>2020-11-01</td>\n",
       "    </tr>\n",
       "    <tr>\n",
       "      <th>43</th>\n",
       "      <td>2020-11-08 16:20:37+00:00</td>\n",
       "      <td>262</td>\n",
       "      <td>262</td>\n",
       "      <td>cus_ILBTbvrwQSN69i</td>\n",
       "      <td>CA</td>\n",
       "      <td>2020-11-01</td>\n",
       "      <td>2020-11-01</td>\n",
       "    </tr>\n",
       "    <tr>\n",
       "      <th>47</th>\n",
       "      <td>2020-11-16 05:17:49+00:00</td>\n",
       "      <td>262</td>\n",
       "      <td>262</td>\n",
       "      <td>cus_IOnhjOcyUitT2L</td>\n",
       "      <td>CA</td>\n",
       "      <td>2020-11-01</td>\n",
       "      <td>2020-11-01</td>\n",
       "    </tr>\n",
       "  </tbody>\n",
       "</table>\n",
       "</div>"
      ],
      "text/plain": [
       "                     created  paid  refunded            customer  \\\n",
       "27 2020-11-18 15:30:24+00:00   262         0  cus_I2qFY6yixgMXlE   \n",
       "31 2020-11-17 16:48:07+00:00   525         0  cus_HuAMgby0dmaLvt   \n",
       "41 2020-11-04 06:41:06+00:00   262       262  cus_IKKK06YE3UDPkS   \n",
       "43 2020-11-08 16:20:37+00:00   262       262  cus_ILBTbvrwQSN69i   \n",
       "47 2020-11-16 05:17:49+00:00   262       262  cus_IOnhjOcyUitT2L   \n",
       "\n",
       "   card__country InvoiceMonth CohortMonth  \n",
       "27            CA   2020-11-01  2020-11-01  \n",
       "31            CA   2020-11-01  2020-11-01  \n",
       "41            CA   2020-11-01  2020-11-01  \n",
       "43            CA   2020-11-01  2020-11-01  \n",
       "47            CA   2020-11-01  2020-11-01  "
      ]
     },
     "execution_count": 72,
     "metadata": {},
     "output_type": "execute_result"
    }
   ],
   "source": [
    "CA_data.head()"
   ]
  },
  {
   "cell_type": "markdown",
   "metadata": {},
   "source": [
    "# Create the Cohort for CA Customers"
   ]
  },
  {
   "cell_type": "code",
   "execution_count": 73,
   "metadata": {},
   "outputs": [],
   "source": [
    "def get_int(df, column):\n",
    "    year = df[column].dt.year\n",
    "    month = df[column].dt.month\n",
    "    return year, month"
   ]
  },
  {
   "cell_type": "code",
   "execution_count": 74,
   "metadata": {},
   "outputs": [],
   "source": [
    "invoiceYear, invoiceMonth = get_int(CA_data, 'InvoiceMonth')\n",
    "cohortYear, cohortMonth = get_int(CA_data, 'CohortMonth')"
   ]
  },
  {
   "cell_type": "code",
   "execution_count": 75,
   "metadata": {},
   "outputs": [],
   "source": [
    "diffYear = invoiceYear - cohortYear\n",
    "diffMonth = invoiceMonth - cohortMonth"
   ]
  },
  {
   "cell_type": "code",
   "execution_count": 76,
   "metadata": {},
   "outputs": [
    {
     "name": "stderr",
     "output_type": "stream",
     "text": [
      "<ipython-input-76-364b84f14695>:1: SettingWithCopyWarning: \n",
      "A value is trying to be set on a copy of a slice from a DataFrame.\n",
      "Try using .loc[row_indexer,col_indexer] = value instead\n",
      "\n",
      "See the caveats in the documentation: https://pandas.pydata.org/pandas-docs/stable/user_guide/indexing.html#returning-a-view-versus-a-copy\n",
      "  CA_data['Month_Index'] = diffYear * 12 + diffMonth + 1\n"
     ]
    }
   ],
   "source": [
    "CA_data['Month_Index'] = diffYear * 12 + diffMonth + 1"
   ]
  },
  {
   "cell_type": "code",
   "execution_count": 77,
   "metadata": {},
   "outputs": [
    {
     "data": {
      "text/html": [
       "<div>\n",
       "<style scoped>\n",
       "    .dataframe tbody tr th:only-of-type {\n",
       "        vertical-align: middle;\n",
       "    }\n",
       "\n",
       "    .dataframe tbody tr th {\n",
       "        vertical-align: top;\n",
       "    }\n",
       "\n",
       "    .dataframe thead th {\n",
       "        text-align: right;\n",
       "    }\n",
       "</style>\n",
       "<table border=\"1\" class=\"dataframe\">\n",
       "  <thead>\n",
       "    <tr style=\"text-align: right;\">\n",
       "      <th></th>\n",
       "      <th>created</th>\n",
       "      <th>paid</th>\n",
       "      <th>refunded</th>\n",
       "      <th>customer</th>\n",
       "      <th>card__country</th>\n",
       "      <th>InvoiceMonth</th>\n",
       "      <th>CohortMonth</th>\n",
       "      <th>Month_Index</th>\n",
       "    </tr>\n",
       "  </thead>\n",
       "  <tbody>\n",
       "    <tr>\n",
       "      <th>27</th>\n",
       "      <td>2020-11-18 15:30:24+00:00</td>\n",
       "      <td>262</td>\n",
       "      <td>0</td>\n",
       "      <td>cus_I2qFY6yixgMXlE</td>\n",
       "      <td>CA</td>\n",
       "      <td>2020-11-01</td>\n",
       "      <td>2020-11-01</td>\n",
       "      <td>1</td>\n",
       "    </tr>\n",
       "    <tr>\n",
       "      <th>31</th>\n",
       "      <td>2020-11-17 16:48:07+00:00</td>\n",
       "      <td>525</td>\n",
       "      <td>0</td>\n",
       "      <td>cus_HuAMgby0dmaLvt</td>\n",
       "      <td>CA</td>\n",
       "      <td>2020-11-01</td>\n",
       "      <td>2020-11-01</td>\n",
       "      <td>1</td>\n",
       "    </tr>\n",
       "    <tr>\n",
       "      <th>41</th>\n",
       "      <td>2020-11-04 06:41:06+00:00</td>\n",
       "      <td>262</td>\n",
       "      <td>262</td>\n",
       "      <td>cus_IKKK06YE3UDPkS</td>\n",
       "      <td>CA</td>\n",
       "      <td>2020-11-01</td>\n",
       "      <td>2020-11-01</td>\n",
       "      <td>1</td>\n",
       "    </tr>\n",
       "    <tr>\n",
       "      <th>43</th>\n",
       "      <td>2020-11-08 16:20:37+00:00</td>\n",
       "      <td>262</td>\n",
       "      <td>262</td>\n",
       "      <td>cus_ILBTbvrwQSN69i</td>\n",
       "      <td>CA</td>\n",
       "      <td>2020-11-01</td>\n",
       "      <td>2020-11-01</td>\n",
       "      <td>1</td>\n",
       "    </tr>\n",
       "    <tr>\n",
       "      <th>47</th>\n",
       "      <td>2020-11-16 05:17:49+00:00</td>\n",
       "      <td>262</td>\n",
       "      <td>262</td>\n",
       "      <td>cus_IOnhjOcyUitT2L</td>\n",
       "      <td>CA</td>\n",
       "      <td>2020-11-01</td>\n",
       "      <td>2020-11-01</td>\n",
       "      <td>1</td>\n",
       "    </tr>\n",
       "  </tbody>\n",
       "</table>\n",
       "</div>"
      ],
      "text/plain": [
       "                     created  paid  refunded            customer  \\\n",
       "27 2020-11-18 15:30:24+00:00   262         0  cus_I2qFY6yixgMXlE   \n",
       "31 2020-11-17 16:48:07+00:00   525         0  cus_HuAMgby0dmaLvt   \n",
       "41 2020-11-04 06:41:06+00:00   262       262  cus_IKKK06YE3UDPkS   \n",
       "43 2020-11-08 16:20:37+00:00   262       262  cus_ILBTbvrwQSN69i   \n",
       "47 2020-11-16 05:17:49+00:00   262       262  cus_IOnhjOcyUitT2L   \n",
       "\n",
       "   card__country InvoiceMonth CohortMonth  Month_Index  \n",
       "27            CA   2020-11-01  2020-11-01            1  \n",
       "31            CA   2020-11-01  2020-11-01            1  \n",
       "41            CA   2020-11-01  2020-11-01            1  \n",
       "43            CA   2020-11-01  2020-11-01            1  \n",
       "47            CA   2020-11-01  2020-11-01            1  "
      ]
     },
     "execution_count": 77,
     "metadata": {},
     "output_type": "execute_result"
    }
   ],
   "source": [
    "CA_data.head()"
   ]
  },
  {
   "cell_type": "markdown",
   "metadata": {},
   "source": [
    "# Cohort Analysis for CA Customers¶"
   ]
  },
  {
   "cell_type": "code",
   "execution_count": 78,
   "metadata": {},
   "outputs": [],
   "source": [
    "#Group the data by columns CohortMonth','Month_Index' then aggreate by column 'customer'\n",
    "cohort_CAdata = CA_data.groupby(\n",
    "    ['CohortMonth', 'Month_Index'])['customer'].apply(pd.Series.nunique).reset_index()"
   ]
  },
  {
   "cell_type": "code",
   "execution_count": 79,
   "metadata": {},
   "outputs": [],
   "source": [
    "#Take the cohort_data and plumb it into a Pivot Table. Setting index, columns and values as below.\n",
    "cohort_CAcount = cohort_CAdata.pivot_table(index = 'CohortMonth',\n",
    "                                       columns = 'Month_Index',\n",
    "                                       values = 'customer')"
   ]
  },
  {
   "cell_type": "code",
   "execution_count": 80,
   "metadata": {},
   "outputs": [
    {
     "data": {
      "text/html": [
       "<div>\n",
       "<style scoped>\n",
       "    .dataframe tbody tr th:only-of-type {\n",
       "        vertical-align: middle;\n",
       "    }\n",
       "\n",
       "    .dataframe tbody tr th {\n",
       "        vertical-align: top;\n",
       "    }\n",
       "\n",
       "    .dataframe thead th {\n",
       "        text-align: right;\n",
       "    }\n",
       "</style>\n",
       "<table border=\"1\" class=\"dataframe\">\n",
       "  <thead>\n",
       "    <tr style=\"text-align: right;\">\n",
       "      <th>Month_Index</th>\n",
       "      <th>1</th>\n",
       "      <th>2</th>\n",
       "      <th>3</th>\n",
       "      <th>4</th>\n",
       "    </tr>\n",
       "    <tr>\n",
       "      <th>CohortMonth</th>\n",
       "      <th></th>\n",
       "      <th></th>\n",
       "      <th></th>\n",
       "      <th></th>\n",
       "    </tr>\n",
       "  </thead>\n",
       "  <tbody>\n",
       "    <tr>\n",
       "      <th>2020-09-01</th>\n",
       "      <td>2.0</td>\n",
       "      <td>2.0</td>\n",
       "      <td>2.0</td>\n",
       "      <td>2.0</td>\n",
       "    </tr>\n",
       "    <tr>\n",
       "      <th>2020-10-01</th>\n",
       "      <td>6.0</td>\n",
       "      <td>5.0</td>\n",
       "      <td>5.0</td>\n",
       "      <td>NaN</td>\n",
       "    </tr>\n",
       "    <tr>\n",
       "      <th>2020-11-01</th>\n",
       "      <td>63.0</td>\n",
       "      <td>39.0</td>\n",
       "      <td>NaN</td>\n",
       "      <td>NaN</td>\n",
       "    </tr>\n",
       "    <tr>\n",
       "      <th>2020-12-01</th>\n",
       "      <td>25.0</td>\n",
       "      <td>NaN</td>\n",
       "      <td>NaN</td>\n",
       "      <td>NaN</td>\n",
       "    </tr>\n",
       "  </tbody>\n",
       "</table>\n",
       "</div>"
      ],
      "text/plain": [
       "Month_Index     1     2    3    4\n",
       "CohortMonth                      \n",
       "2020-09-01    2.0   2.0  2.0  2.0\n",
       "2020-10-01    6.0   5.0  5.0  NaN\n",
       "2020-11-01   63.0  39.0  NaN  NaN\n",
       "2020-12-01   25.0   NaN  NaN  NaN"
      ]
     },
     "execution_count": 80,
     "metadata": {},
     "output_type": "execute_result"
    }
   ],
   "source": [
    "cohort_CAcount"
   ]
  },
  {
   "cell_type": "markdown",
   "metadata": {},
   "source": [
    "# Create retention as a percentage"
   ]
  },
  {
   "cell_type": "code",
   "execution_count": 81,
   "metadata": {},
   "outputs": [
    {
     "data": {
      "text/html": [
       "<div>\n",
       "<style scoped>\n",
       "    .dataframe tbody tr th:only-of-type {\n",
       "        vertical-align: middle;\n",
       "    }\n",
       "\n",
       "    .dataframe tbody tr th {\n",
       "        vertical-align: top;\n",
       "    }\n",
       "\n",
       "    .dataframe thead th {\n",
       "        text-align: right;\n",
       "    }\n",
       "</style>\n",
       "<table border=\"1\" class=\"dataframe\">\n",
       "  <thead>\n",
       "    <tr style=\"text-align: right;\">\n",
       "      <th>Month_Index</th>\n",
       "      <th>1</th>\n",
       "      <th>2</th>\n",
       "      <th>3</th>\n",
       "      <th>4</th>\n",
       "    </tr>\n",
       "    <tr>\n",
       "      <th>CohortMonth</th>\n",
       "      <th></th>\n",
       "      <th></th>\n",
       "      <th></th>\n",
       "      <th></th>\n",
       "    </tr>\n",
       "  </thead>\n",
       "  <tbody>\n",
       "    <tr>\n",
       "      <th>2020-09-01</th>\n",
       "      <td>1.0</td>\n",
       "      <td>1.000</td>\n",
       "      <td>1.000</td>\n",
       "      <td>1.0</td>\n",
       "    </tr>\n",
       "    <tr>\n",
       "      <th>2020-10-01</th>\n",
       "      <td>1.0</td>\n",
       "      <td>0.833</td>\n",
       "      <td>0.833</td>\n",
       "      <td>NaN</td>\n",
       "    </tr>\n",
       "    <tr>\n",
       "      <th>2020-11-01</th>\n",
       "      <td>1.0</td>\n",
       "      <td>0.619</td>\n",
       "      <td>NaN</td>\n",
       "      <td>NaN</td>\n",
       "    </tr>\n",
       "    <tr>\n",
       "      <th>2020-12-01</th>\n",
       "      <td>1.0</td>\n",
       "      <td>NaN</td>\n",
       "      <td>NaN</td>\n",
       "      <td>NaN</td>\n",
       "    </tr>\n",
       "  </tbody>\n",
       "</table>\n",
       "</div>"
      ],
      "text/plain": [
       "Month_Index    1      2      3    4\n",
       "CohortMonth                        \n",
       "2020-09-01   1.0  1.000  1.000  1.0\n",
       "2020-10-01   1.0  0.833  0.833  NaN\n",
       "2020-11-01   1.0  0.619    NaN  NaN\n",
       "2020-12-01   1.0    NaN    NaN  NaN"
      ]
     },
     "execution_count": 81,
     "metadata": {},
     "output_type": "execute_result"
    }
   ],
   "source": [
    "cohort_CAsize = cohort_CAcount.iloc[:,0] #select all the rows : select the first column\n",
    "retention_CA = cohort_CAcount.divide(cohort_CAsize, axis=0) #Divide the cohort by the first column\n",
    "retention_CA.round(3) # round the retention to 3 places"
   ]
  },
  {
   "cell_type": "markdown",
   "metadata": {},
   "source": [
    "# Creating cohort heatmaps for CA customers"
   ]
  },
  {
   "cell_type": "code",
   "execution_count": 82,
   "metadata": {},
   "outputs": [
    {
     "data": {
      "text/plain": [
       "<Figure size 792x648 with 0 Axes>"
      ]
     },
     "metadata": {},
     "output_type": "display_data"
    },
    {
     "data": {
      "image/png": "[encoded data removed]",
      "text/plain": [
       "<Figure size 792x648 with 2 Axes>"
      ]
     },
     "metadata": {
      "needs_background": "light"
     },
     "output_type": "display_data"
    }
   ],
   "source": [
    "month_list = [\"Sep '20'\", \"Oct '20\", \"Nov '20\", \"Dec '20\"]\n",
    "plt.figure(figsize = (11,9))\n",
    "plt.figure(figsize = (11,9))\n",
    "plt.title('CA customers Retention by Monthly Cohorts')\n",
    "sns.heatmap(data = retention_CA, \n",
    "            annot = True, \n",
    "            fmt = '.0%', \n",
    "            vmin = 0.0,\n",
    "            vmax = 1.0,\n",
    "            cmap = \"YlGnBu\", yticklabels=month_list)\n",
    "plt.show()"
   ]
  },
  {
   "cell_type": "markdown",
   "metadata": {},
   "source": [
    "The October cohort month and 2th month_index column in figure with values 83% represents, 83% of cohorts- Canadian customers which signed in Oct 2020 were active 2 months later. \n",
    "\n",
    "Also, 100% value in all cells in column 1 says that this was the month when customer signed up or did their first transaction and have rate of 100% activity."
   ]
  },
  {
   "cell_type": "markdown",
   "metadata": {},
   "source": [
    "# average paid"
   ]
  },
  {
   "cell_type": "code",
   "execution_count": 83,
   "metadata": {},
   "outputs": [
    {
     "data": {
      "text/html": [
       "<div>\n",
       "<style scoped>\n",
       "    .dataframe tbody tr th:only-of-type {\n",
       "        vertical-align: middle;\n",
       "    }\n",
       "\n",
       "    .dataframe tbody tr th {\n",
       "        vertical-align: top;\n",
       "    }\n",
       "\n",
       "    .dataframe thead th {\n",
       "        text-align: right;\n",
       "    }\n",
       "</style>\n",
       "<table border=\"1\" class=\"dataframe\">\n",
       "  <thead>\n",
       "    <tr style=\"text-align: right;\">\n",
       "      <th>Month_Index</th>\n",
       "      <th>1</th>\n",
       "      <th>2</th>\n",
       "      <th>3</th>\n",
       "      <th>4</th>\n",
       "    </tr>\n",
       "    <tr>\n",
       "      <th>CohortMonth</th>\n",
       "      <th></th>\n",
       "      <th></th>\n",
       "      <th></th>\n",
       "      <th></th>\n",
       "    </tr>\n",
       "  </thead>\n",
       "  <tbody>\n",
       "    <tr>\n",
       "      <th>2020-09-01</th>\n",
       "      <td>272.0</td>\n",
       "      <td>272.0</td>\n",
       "      <td>272.0</td>\n",
       "      <td>272.0</td>\n",
       "    </tr>\n",
       "    <tr>\n",
       "      <th>2020-10-01</th>\n",
       "      <td>308.1</td>\n",
       "      <td>308.1</td>\n",
       "      <td>315.8</td>\n",
       "      <td>NaN</td>\n",
       "    </tr>\n",
       "    <tr>\n",
       "      <th>2020-11-01</th>\n",
       "      <td>286.5</td>\n",
       "      <td>317.1</td>\n",
       "      <td>NaN</td>\n",
       "      <td>NaN</td>\n",
       "    </tr>\n",
       "    <tr>\n",
       "      <th>2020-12-01</th>\n",
       "      <td>636.0</td>\n",
       "      <td>NaN</td>\n",
       "      <td>NaN</td>\n",
       "      <td>NaN</td>\n",
       "    </tr>\n",
       "  </tbody>\n",
       "</table>\n",
       "</div>"
      ],
      "text/plain": [
       "Month_Index      1      2      3      4\n",
       "CohortMonth                            \n",
       "2020-09-01   272.0  272.0  272.0  272.0\n",
       "2020-10-01   308.1  308.1  315.8    NaN\n",
       "2020-11-01   286.5  317.1    NaN    NaN\n",
       "2020-12-01   636.0    NaN    NaN    NaN"
      ]
     },
     "execution_count": 83,
     "metadata": {},
     "output_type": "execute_result"
    }
   ],
   "source": [
    "cohort_CAdata2 = CA_data.groupby(['CohortMonth', 'Month_Index'])['paid'].mean().reset_index()\n",
    "average_CApaid  = cohort_CAdata2.pivot_table(index = 'CohortMonth',\n",
    "                                            columns = 'Month_Index',\n",
    "                                       values = 'paid').round(1)\n",
    "average_CApaid"
   ]
  },
  {
   "cell_type": "code",
   "execution_count": 84,
   "metadata": {},
   "outputs": [
    {
     "data": {
      "image/png": "[encoded data removed]",
      "text/plain": [
       "<Figure size 792x648 with 2 Axes>"
      ]
     },
     "metadata": {
      "needs_background": "light"
     },
     "output_type": "display_data"
    }
   ],
   "source": [
    "month_list = [  \"Sep '20\", \"Oct '20\", \"Nov '20\", \"Dec '20\"]\n",
    "\n",
    "plt.figure(figsize = (11,9))\n",
    "plt.title('CA customers Average paid (average revenue) by Monthly Cohorts')\n",
    "sns.heatmap(data = average_CApaid, \n",
    "            annot = True,\n",
    "            vmin = 450,\n",
    "            vmax = 0,\n",
    "            cmap = \"BuGn\",\n",
    "             fmt='g', yticklabels=month_list)\n",
    "plt.show()"
   ]
  },
  {
   "cell_type": "markdown",
   "metadata": {},
   "source": [
    "The Sep cohort month and 4th month_index column in figure with values 272 represents, average revenue made from Canadian customers which signed in Aug 2020 and 4 month-index later is 272.\n",
    "\n",
    "Average revenue made from Canadian customers is highest in Dec 2020 and 1 st cohort month_index - 636"
   ]
  },
  {
   "cell_type": "markdown",
   "metadata": {},
   "source": [
    "# Average refund"
   ]
  },
  {
   "cell_type": "code",
   "execution_count": 85,
   "metadata": {},
   "outputs": [
    {
     "data": {
      "text/html": [
       "<div>\n",
       "<style scoped>\n",
       "    .dataframe tbody tr th:only-of-type {\n",
       "        vertical-align: middle;\n",
       "    }\n",
       "\n",
       "    .dataframe tbody tr th {\n",
       "        vertical-align: top;\n",
       "    }\n",
       "\n",
       "    .dataframe thead th {\n",
       "        text-align: right;\n",
       "    }\n",
       "</style>\n",
       "<table border=\"1\" class=\"dataframe\">\n",
       "  <thead>\n",
       "    <tr style=\"text-align: right;\">\n",
       "      <th>Month_Index</th>\n",
       "      <th>1</th>\n",
       "      <th>2</th>\n",
       "      <th>3</th>\n",
       "      <th>4</th>\n",
       "    </tr>\n",
       "    <tr>\n",
       "      <th>CohortMonth</th>\n",
       "      <th></th>\n",
       "      <th></th>\n",
       "      <th></th>\n",
       "      <th></th>\n",
       "    </tr>\n",
       "  </thead>\n",
       "  <tbody>\n",
       "    <tr>\n",
       "      <th>2020-09-01</th>\n",
       "      <td>272.0</td>\n",
       "      <td>272.0</td>\n",
       "      <td>272.0</td>\n",
       "      <td>272.0</td>\n",
       "    </tr>\n",
       "    <tr>\n",
       "      <th>2020-10-01</th>\n",
       "      <td>37.4</td>\n",
       "      <td>37.4</td>\n",
       "      <td>43.7</td>\n",
       "      <td>NaN</td>\n",
       "    </tr>\n",
       "    <tr>\n",
       "      <th>2020-11-01</th>\n",
       "      <td>50.7</td>\n",
       "      <td>0.0</td>\n",
       "      <td>NaN</td>\n",
       "      <td>NaN</td>\n",
       "    </tr>\n",
       "    <tr>\n",
       "      <th>2020-12-01</th>\n",
       "      <td>371.0</td>\n",
       "      <td>NaN</td>\n",
       "      <td>NaN</td>\n",
       "      <td>NaN</td>\n",
       "    </tr>\n",
       "  </tbody>\n",
       "</table>\n",
       "</div>"
      ],
      "text/plain": [
       "Month_Index      1      2      3      4\n",
       "CohortMonth                            \n",
       "2020-09-01   272.0  272.0  272.0  272.0\n",
       "2020-10-01    37.4   37.4   43.7    NaN\n",
       "2020-11-01    50.7    0.0    NaN    NaN\n",
       "2020-12-01   371.0    NaN    NaN    NaN"
      ]
     },
     "execution_count": 85,
     "metadata": {},
     "output_type": "execute_result"
    }
   ],
   "source": [
    "cohort_CAdata3 = CA_data.groupby(['CohortMonth', 'Month_Index'])['refunded'].mean().reset_index()\n",
    "average_CArefund  = cohort_CAdata3.pivot_table(index = 'CohortMonth',\n",
    "                                            columns = 'Month_Index',\n",
    "                                       values = 'refunded').round(1)\n",
    "average_CArefund"
   ]
  },
  {
   "cell_type": "code",
   "execution_count": 86,
   "metadata": {},
   "outputs": [
    {
     "data": {
      "image/png": "[encoded data removed]",
      "text/plain": [
       "<Figure size 792x648 with 2 Axes>"
      ]
     },
     "metadata": {
      "needs_background": "light"
     },
     "output_type": "display_data"
    }
   ],
   "source": [
    "month_list = [ \"Sep '20\", \"Oct '20\", \"Nov '20\", \"Dec '20\"]\n",
    "\n",
    "plt.figure(figsize = (11,9))\n",
    "plt.title('CA customers Average refunded (average expenses) by Monthly Cohorts')\n",
    "sns.heatmap(data = average_CArefund, \n",
    "            annot = True,\n",
    "            vmin = 250,\n",
    "            vmax = 0,\n",
    "            cmap = \"BuGn\", \n",
    "            fmt='g', yticklabels=month_list)\n",
    "plt.show()"
   ]
  },
  {
   "cell_type": "markdown",
   "metadata": {},
   "source": [
    "From the above heat maps from paid (revenue) and refunded(expenses). It is clear that business is not making much profit from Canadian customers in  Sep 2020. We can see more details on heatmaps for profit."
   ]
  },
  {
   "cell_type": "markdown",
   "metadata": {},
   "source": [
    "# Average Profit made from CA Customers"
   ]
  },
  {
   "cell_type": "code",
   "execution_count": 87,
   "metadata": {},
   "outputs": [
    {
     "name": "stderr",
     "output_type": "stream",
     "text": [
      "<ipython-input-87-080af5e74cc4>:2: SettingWithCopyWarning: \n",
      "A value is trying to be set on a copy of a slice from a DataFrame.\n",
      "Try using .loc[row_indexer,col_indexer] = value instead\n",
      "\n",
      "See the caveats in the documentation: https://pandas.pydata.org/pandas-docs/stable/user_guide/indexing.html#returning-a-view-versus-a-copy\n",
      "  CA_data['Totalprofit_CA'] = CA_data['paid'] - CA_data['refunded']\n"
     ]
    }
   ],
   "source": [
    "#Create a new column for Total Sales \n",
    "CA_data['Totalprofit_CA'] = CA_data['paid'] - CA_data['refunded']"
   ]
  },
  {
   "cell_type": "code",
   "execution_count": 88,
   "metadata": {},
   "outputs": [
    {
     "data": {
      "text/plain": [
       "27    262\n",
       "31    525\n",
       "41      0\n",
       "43      0\n",
       "47      0\n",
       "Name: Totalprofit_CA, dtype: int64"
      ]
     },
     "execution_count": 88,
     "metadata": {},
     "output_type": "execute_result"
    }
   ],
   "source": [
    "CA_data['Totalprofit_CA'].head()"
   ]
  },
  {
   "cell_type": "code",
   "execution_count": 89,
   "metadata": {},
   "outputs": [
    {
     "data": {
      "text/html": [
       "<div>\n",
       "<style scoped>\n",
       "    .dataframe tbody tr th:only-of-type {\n",
       "        vertical-align: middle;\n",
       "    }\n",
       "\n",
       "    .dataframe tbody tr th {\n",
       "        vertical-align: top;\n",
       "    }\n",
       "\n",
       "    .dataframe thead th {\n",
       "        text-align: right;\n",
       "    }\n",
       "</style>\n",
       "<table border=\"1\" class=\"dataframe\">\n",
       "  <thead>\n",
       "    <tr style=\"text-align: right;\">\n",
       "      <th>Month_Index</th>\n",
       "      <th>1</th>\n",
       "      <th>2</th>\n",
       "      <th>3</th>\n",
       "      <th>4</th>\n",
       "    </tr>\n",
       "    <tr>\n",
       "      <th>CohortMonth</th>\n",
       "      <th></th>\n",
       "      <th></th>\n",
       "      <th></th>\n",
       "      <th></th>\n",
       "    </tr>\n",
       "  </thead>\n",
       "  <tbody>\n",
       "    <tr>\n",
       "      <th>2020-09-01</th>\n",
       "      <td>0.0</td>\n",
       "      <td>0.0</td>\n",
       "      <td>0.0</td>\n",
       "      <td>0.0</td>\n",
       "    </tr>\n",
       "    <tr>\n",
       "      <th>2020-10-01</th>\n",
       "      <td>270.7</td>\n",
       "      <td>270.7</td>\n",
       "      <td>272.2</td>\n",
       "      <td>NaN</td>\n",
       "    </tr>\n",
       "    <tr>\n",
       "      <th>2020-11-01</th>\n",
       "      <td>235.8</td>\n",
       "      <td>317.1</td>\n",
       "      <td>NaN</td>\n",
       "      <td>NaN</td>\n",
       "    </tr>\n",
       "    <tr>\n",
       "      <th>2020-12-01</th>\n",
       "      <td>264.9</td>\n",
       "      <td>NaN</td>\n",
       "      <td>NaN</td>\n",
       "      <td>NaN</td>\n",
       "    </tr>\n",
       "  </tbody>\n",
       "</table>\n",
       "</div>"
      ],
      "text/plain": [
       "Month_Index      1      2      3    4\n",
       "CohortMonth                          \n",
       "2020-09-01     0.0    0.0    0.0  0.0\n",
       "2020-10-01   270.7  270.7  272.2  NaN\n",
       "2020-11-01   235.8  317.1    NaN  NaN\n",
       "2020-12-01   264.9    NaN    NaN  NaN"
      ]
     },
     "execution_count": 89,
     "metadata": {},
     "output_type": "execute_result"
    }
   ],
   "source": [
    "cohort_CAdata3 = CA_data.groupby(['CohortMonth', 'Month_Index'])['Totalprofit_CA'].mean().reset_index()\n",
    "average_CAprofit  = cohort_CAdata3.pivot_table(index = 'CohortMonth',\n",
    "                                           columns = 'Month_Index',\n",
    "                                      values = 'Totalprofit_CA').round(1)\n",
    "average_CAprofit"
   ]
  },
  {
   "cell_type": "code",
   "execution_count": 90,
   "metadata": {
    "scrolled": true
   },
   "outputs": [
    {
     "data": {
      "image/png": "[encoded data removed]",
      "text/plain": [
       "<Figure size 792x648 with 2 Axes>"
      ]
     },
     "metadata": {
      "needs_background": "light"
     },
     "output_type": "display_data"
    }
   ],
   "source": [
    "month_list = [ \"sep '20\", \"Oct '20\", \"Nov '20\", \"Dec '20\"]\n",
    "\n",
    "plt.figure(figsize = (11,9))\n",
    "plt.title('CA customers Average Profit by Monthly Cohorts')\n",
    "sns.heatmap(data = average_CAprofit, \n",
    "            annot = True,\n",
    "            vmin = 250,\n",
    "            vmax = 0,\n",
    "            cmap = \"BuGn\", \n",
    "            fmt='g', yticklabels=month_list)\n",
    "plt.show()"
   ]
  },
  {
   "cell_type": "markdown",
   "metadata": {},
   "source": [
    "From heatmaps it is clear that business is not making profit from Canadian customers in Sep 2020. From Oct 2020 to Dec 2020 company is making profit. For Nov 2020 and 2nd cohort Month_index company makes highest average profit for Canadian customers of 317.1"
   ]
  },
  {
   "cell_type": "markdown",
   "metadata": {},
   "source": [
    "# 7. Creating csv for cleaned master data (no geographic separation) to prepare a cohort layer cake"
   ]
  },
  {
   "cell_type": "code",
   "execution_count": 91,
   "metadata": {},
   "outputs": [
    {
     "data": {
      "text/html": [
       "<div>\n",
       "<style scoped>\n",
       "    .dataframe tbody tr th:only-of-type {\n",
       "        vertical-align: middle;\n",
       "    }\n",
       "\n",
       "    .dataframe tbody tr th {\n",
       "        vertical-align: top;\n",
       "    }\n",
       "\n",
       "    .dataframe thead th {\n",
       "        text-align: right;\n",
       "    }\n",
       "</style>\n",
       "<table border=\"1\" class=\"dataframe\">\n",
       "  <thead>\n",
       "    <tr style=\"text-align: right;\">\n",
       "      <th></th>\n",
       "      <th>created</th>\n",
       "      <th>paid</th>\n",
       "      <th>refunded</th>\n",
       "      <th>customer</th>\n",
       "      <th>card__country</th>\n",
       "    </tr>\n",
       "  </thead>\n",
       "  <tbody>\n",
       "    <tr>\n",
       "      <th>0</th>\n",
       "      <td>2020-10-21 04:45:40+00:00</td>\n",
       "      <td>250</td>\n",
       "      <td>250</td>\n",
       "      <td>cus_IF3JcGrw0aMpgv</td>\n",
       "      <td>US</td>\n",
       "    </tr>\n",
       "    <tr>\n",
       "      <th>1</th>\n",
       "      <td>2020-10-27 23:02:31+00:00</td>\n",
       "      <td>250</td>\n",
       "      <td>250</td>\n",
       "      <td>cus_IHaMqtFwUNAO09</td>\n",
       "      <td>US</td>\n",
       "    </tr>\n",
       "    <tr>\n",
       "      <th>2</th>\n",
       "      <td>2020-11-01 02:42:43+00:00</td>\n",
       "      <td>250</td>\n",
       "      <td>250</td>\n",
       "      <td>cus_IJ8oU3Lo2gaHls</td>\n",
       "      <td>DE</td>\n",
       "    </tr>\n",
       "    <tr>\n",
       "      <th>3</th>\n",
       "      <td>2020-11-17 19:51:25+00:00</td>\n",
       "      <td>750</td>\n",
       "      <td>0</td>\n",
       "      <td>cus_HbD8AagiDUOBoG</td>\n",
       "      <td>US</td>\n",
       "    </tr>\n",
       "    <tr>\n",
       "      <th>4</th>\n",
       "      <td>2020-11-17 21:28:58+00:00</td>\n",
       "      <td>250</td>\n",
       "      <td>0</td>\n",
       "      <td>cus_IDnbmEhzNjlGV0</td>\n",
       "      <td>GB</td>\n",
       "    </tr>\n",
       "    <tr>\n",
       "      <th>...</th>\n",
       "      <td>...</td>\n",
       "      <td>...</td>\n",
       "      <td>...</td>\n",
       "      <td>...</td>\n",
       "      <td>...</td>\n",
       "    </tr>\n",
       "    <tr>\n",
       "      <th>5720</th>\n",
       "      <td>2020-10-11 08:11:05+00:00</td>\n",
       "      <td>250</td>\n",
       "      <td>250</td>\n",
       "      <td>cus_HoUaOBLxK6Klaa</td>\n",
       "      <td>AU</td>\n",
       "    </tr>\n",
       "    <tr>\n",
       "      <th>5721</th>\n",
       "      <td>2020-08-11 07:08:54+00:00</td>\n",
       "      <td>250</td>\n",
       "      <td>250</td>\n",
       "      <td>cus_HoUaOBLxK6Klaa</td>\n",
       "      <td>AU</td>\n",
       "    </tr>\n",
       "    <tr>\n",
       "      <th>5722</th>\n",
       "      <td>2020-11-11 08:09:52+00:00</td>\n",
       "      <td>250</td>\n",
       "      <td>250</td>\n",
       "      <td>cus_HoUaOBLxK6Klaa</td>\n",
       "      <td>AU</td>\n",
       "    </tr>\n",
       "    <tr>\n",
       "      <th>5723</th>\n",
       "      <td>2020-09-11 08:09:30+00:00</td>\n",
       "      <td>250</td>\n",
       "      <td>250</td>\n",
       "      <td>cus_HoUaOBLxK6Klaa</td>\n",
       "      <td>AU</td>\n",
       "    </tr>\n",
       "    <tr>\n",
       "      <th>5724</th>\n",
       "      <td>2020-12-11 08:09:52+00:00</td>\n",
       "      <td>250</td>\n",
       "      <td>250</td>\n",
       "      <td>cus_HoUaOBLxK6Klaa</td>\n",
       "      <td>AU</td>\n",
       "    </tr>\n",
       "  </tbody>\n",
       "</table>\n",
       "<p>5725 rows × 5 columns</p>\n",
       "</div>"
      ],
      "text/plain": [
       "                       created  paid  refunded            customer  \\\n",
       "0    2020-10-21 04:45:40+00:00   250       250  cus_IF3JcGrw0aMpgv   \n",
       "1    2020-10-27 23:02:31+00:00   250       250  cus_IHaMqtFwUNAO09   \n",
       "2    2020-11-01 02:42:43+00:00   250       250  cus_IJ8oU3Lo2gaHls   \n",
       "3    2020-11-17 19:51:25+00:00   750         0  cus_HbD8AagiDUOBoG   \n",
       "4    2020-11-17 21:28:58+00:00   250         0  cus_IDnbmEhzNjlGV0   \n",
       "...                        ...   ...       ...                 ...   \n",
       "5720 2020-10-11 08:11:05+00:00   250       250  cus_HoUaOBLxK6Klaa   \n",
       "5721 2020-08-11 07:08:54+00:00   250       250  cus_HoUaOBLxK6Klaa   \n",
       "5722 2020-11-11 08:09:52+00:00   250       250  cus_HoUaOBLxK6Klaa   \n",
       "5723 2020-09-11 08:09:30+00:00   250       250  cus_HoUaOBLxK6Klaa   \n",
       "5724 2020-12-11 08:09:52+00:00   250       250  cus_HoUaOBLxK6Klaa   \n",
       "\n",
       "     card__country  \n",
       "0               US  \n",
       "1               US  \n",
       "2               DE  \n",
       "3               US  \n",
       "4               GB  \n",
       "...            ...  \n",
       "5720            AU  \n",
       "5721            AU  \n",
       "5722            AU  \n",
       "5723            AU  \n",
       "5724            AU  \n",
       "\n",
       "[5725 rows x 5 columns]"
      ]
     },
     "execution_count": 91,
     "metadata": {},
     "output_type": "execute_result"
    }
   ],
   "source": [
    "#converting into proper format\n",
    "df['created'] = pd.to_datetime(df['created'])\n",
    "df"
   ]
  },
  {
   "cell_type": "code",
   "execution_count": 92,
   "metadata": {},
   "outputs": [],
   "source": [
    "def monthly(x):\n",
    "    return datetime.datetime(x.year, x.month, 1)"
   ]
  },
  {
   "cell_type": "code",
   "execution_count": 93,
   "metadata": {},
   "outputs": [],
   "source": [
    "#Create a new column \n",
    "df['InvoiceMonth'] = df['created'].apply(monthly)"
   ]
  },
  {
   "cell_type": "code",
   "execution_count": 94,
   "metadata": {},
   "outputs": [
    {
     "data": {
      "text/plain": [
       "0      2020-10-01\n",
       "1      2020-10-01\n",
       "2      2020-11-01\n",
       "3      2020-11-01\n",
       "4      2020-11-01\n",
       "          ...    \n",
       "5720   2020-10-01\n",
       "5721   2020-08-01\n",
       "5722   2020-11-01\n",
       "5723   2020-09-01\n",
       "5724   2020-12-01\n",
       "Name: InvoiceMonth, Length: 5725, dtype: datetime64[ns]"
      ]
     },
     "execution_count": 94,
     "metadata": {},
     "output_type": "execute_result"
    }
   ],
   "source": [
    "#Always inspect the data you've just created\n",
    "df['InvoiceMonth']"
   ]
  },
  {
   "cell_type": "code",
   "execution_count": 95,
   "metadata": {},
   "outputs": [],
   "source": [
    "df = df.drop('created',axis=1)"
   ]
  },
  {
   "cell_type": "code",
   "execution_count": 96,
   "metadata": {},
   "outputs": [
    {
     "data": {
      "text/html": [
       "<div>\n",
       "<style scoped>\n",
       "    .dataframe tbody tr th:only-of-type {\n",
       "        vertical-align: middle;\n",
       "    }\n",
       "\n",
       "    .dataframe tbody tr th {\n",
       "        vertical-align: top;\n",
       "    }\n",
       "\n",
       "    .dataframe thead th {\n",
       "        text-align: right;\n",
       "    }\n",
       "</style>\n",
       "<table border=\"1\" class=\"dataframe\">\n",
       "  <thead>\n",
       "    <tr style=\"text-align: right;\">\n",
       "      <th></th>\n",
       "      <th>paid</th>\n",
       "      <th>refunded</th>\n",
       "      <th>customer</th>\n",
       "      <th>card__country</th>\n",
       "      <th>InvoiceMonth</th>\n",
       "    </tr>\n",
       "  </thead>\n",
       "  <tbody>\n",
       "    <tr>\n",
       "      <th>0</th>\n",
       "      <td>250</td>\n",
       "      <td>250</td>\n",
       "      <td>cus_IF3JcGrw0aMpgv</td>\n",
       "      <td>US</td>\n",
       "      <td>2020-10-01</td>\n",
       "    </tr>\n",
       "    <tr>\n",
       "      <th>1</th>\n",
       "      <td>250</td>\n",
       "      <td>250</td>\n",
       "      <td>cus_IHaMqtFwUNAO09</td>\n",
       "      <td>US</td>\n",
       "      <td>2020-10-01</td>\n",
       "    </tr>\n",
       "    <tr>\n",
       "      <th>2</th>\n",
       "      <td>250</td>\n",
       "      <td>250</td>\n",
       "      <td>cus_IJ8oU3Lo2gaHls</td>\n",
       "      <td>DE</td>\n",
       "      <td>2020-11-01</td>\n",
       "    </tr>\n",
       "    <tr>\n",
       "      <th>3</th>\n",
       "      <td>750</td>\n",
       "      <td>0</td>\n",
       "      <td>cus_HbD8AagiDUOBoG</td>\n",
       "      <td>US</td>\n",
       "      <td>2020-11-01</td>\n",
       "    </tr>\n",
       "    <tr>\n",
       "      <th>4</th>\n",
       "      <td>250</td>\n",
       "      <td>0</td>\n",
       "      <td>cus_IDnbmEhzNjlGV0</td>\n",
       "      <td>GB</td>\n",
       "      <td>2020-11-01</td>\n",
       "    </tr>\n",
       "  </tbody>\n",
       "</table>\n",
       "</div>"
      ],
      "text/plain": [
       "   paid  refunded            customer card__country InvoiceMonth\n",
       "0   250       250  cus_IF3JcGrw0aMpgv            US   2020-10-01\n",
       "1   250       250  cus_IHaMqtFwUNAO09            US   2020-10-01\n",
       "2   250       250  cus_IJ8oU3Lo2gaHls            DE   2020-11-01\n",
       "3   750         0  cus_HbD8AagiDUOBoG            US   2020-11-01\n",
       "4   250         0  cus_IDnbmEhzNjlGV0            GB   2020-11-01"
      ]
     },
     "execution_count": 96,
     "metadata": {},
     "output_type": "execute_result"
    }
   ],
   "source": [
    "df.head()"
   ]
  },
  {
   "cell_type": "code",
   "execution_count": 98,
   "metadata": {},
   "outputs": [
    {
     "name": "stdout",
     "output_type": "stream",
     "text": [
      "      paid  refunded            customer card__country InvoiceMonth\n",
      "0      250       250  cus_IF3JcGrw0aMpgv            US   2020-10-01\n",
      "1      250       250  cus_IHaMqtFwUNAO09            US   2020-10-01\n",
      "2      250       250  cus_IJ8oU3Lo2gaHls            DE   2020-11-01\n",
      "3      750         0  cus_HbD8AagiDUOBoG            US   2020-11-01\n",
      "4      250         0  cus_IDnbmEhzNjlGV0            GB   2020-11-01\n",
      "...    ...       ...                 ...           ...          ...\n",
      "5720   250       250  cus_HoUaOBLxK6Klaa            AU   2020-10-01\n",
      "5721   250       250  cus_HoUaOBLxK6Klaa            AU   2020-08-01\n",
      "5722   250       250  cus_HoUaOBLxK6Klaa            AU   2020-11-01\n",
      "5723   250       250  cus_HoUaOBLxK6Klaa            AU   2020-09-01\n",
      "5724   250       250  cus_HoUaOBLxK6Klaa            AU   2020-12-01\n",
      "\n",
      "[5725 rows x 5 columns]\n"
     ]
    }
   ],
   "source": [
    "#converting into csv\n",
    "df.to_csv(r'C:\\Users\\Keeru\\Desktop\\master_data.csv', index = False, header = True)\n",
    "print (df)"
   ]
  },
  {
   "cell_type": "markdown",
   "metadata": {},
   "source": [
    "# 8. Conclusion"
   ]
  },
  {
   "cell_type": "markdown",
   "metadata": {},
   "source": [
    "The given dataset encountered significant data quality issues.\n",
    "Columns, such as card__country, have empty values in certain records. Mitigation: If only a small number of rows are empty, filter out the record entirely from the training set for prediction. Else, if it is a core field, impute based on the distribution in the training dataset. Here impute is not possible. Going with 1678 non-null entries.\n",
    "\n",
    "Making assumption- All the DateTime and currency in a proper format, and there is no need for any conversion. \n",
    "\n",
    "From the data analysis, we found the highest-paid countries are KE(Kenya), IN (India). The highest refunded countries are DK (Denmark), IN (India). The top 3 most frequently represented countries on the data frame are the US, AU, CA.\n",
    "\n",
    "In general, you can see from the retention rate DataFrame:\n",
    "* Retention Rate 1st index i.e 1st Month is 100% as all the customers for that particular customers signed up in 1st Month\n",
    "* The retention rate may increase or decrease in Subsequent Indexes.\n",
    "* Values towards BottomRight have a lot of NaN values.\n",
    "\n",
    "From heatmaps, it is clear that business is not making a profit from American customers from June 2020 to Sep 2020. From Oct 2020 to Dec 2020 company is making a profit. For Dec 2020 and 1st cohort, Month_index company produces the highest average profit for American customers of 288.2\n",
    "\n",
    "From heatmaps, it is clear that business is not making a profit from Australian customers in Aug 2020. From Oct 2020 to Dec 2020 company is making a profit. For Nov 2020 and 1st cohort, Month_index company produces the highest average profit for Australian customers of 285.1\n",
    "\n",
    "From heatmaps, it is clear that business is not making a profit from Canadian customers in Sep 2020. From Oct 2020 to Dec 2020 company is making a profit. For Nov 2020 and 2nd cohort, Month_index company produces the highest average profit for Canadian customers of 317.1\n",
    "\n",
    "In general, the company is making an average profit from the top 3 most frequently represented countries that are American, Australian and Canadian customers, from Oct 2020 to Dec 2020.\n",
    "\n",
    "Finally created a CSV for master data (no geographic separation) to prepare a cohort layer cake."
   ]
  }
 ],
 "metadata": {
  "kernelspec": {
   "display_name": "Python 3",
   "language": "python",
   "name": "python3"
  },
  "language_info": {
   "codemirror_mode": {
    "name": "ipython",
    "version": 3
   },
   "file_extension": ".py",
   "mimetype": "text/x-python",
   "name": "python",
   "nbconvert_exporter": "python",
   "pygments_lexer": "ipython3",
   "version": "3.8.3"
  }
 },
 "nbformat": 4,
 "nbformat_minor": 4
}
